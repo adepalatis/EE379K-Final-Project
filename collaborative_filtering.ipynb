{
 "cells": [
  {
   "cell_type": "code",
   "execution_count": 1,
   "metadata": {
    "collapsed": true
   },
   "outputs": [],
   "source": [
    "import numpy as np\n",
    "import pandas as pd\n",
    "import matplotlib.pyplot as plt\n",
    "import math"
   ]
  },
  {
   "cell_type": "code",
   "execution_count": 2,
   "metadata": {
    "collapsed": false
   },
   "outputs": [
    {
     "name": "stdout",
     "output_type": "stream",
     "text": [
      "                  Name          0         2      3  4 score_phrase  \\\n",
      "0          007 Legends   46055854  purchase    1.0  0          Bad   \n",
      "1          007 Legends   46055854  purchase    1.0  0          Bad   \n",
      "2          007 Legends   46055854  purchase    1.0  0          Bad   \n",
      "3          007 Legends   46055854      play    0.7  0          Bad   \n",
      "4          007 Legends   46055854      play    0.7  0          Bad   \n",
      "5          007 Legends   46055854      play    0.7  0          Bad   \n",
      "6           4 Elements   11373749  purchase    1.0  0        Great   \n",
      "7           4 Elements   11373749      play    9.4  0        Great   \n",
      "8           4 Elements   84455820  purchase    1.0  0        Great   \n",
      "9           4 Elements   84455820      play   37.0  0        Great   \n",
      "10          4 Elements  138941587  purchase    1.0  0        Great   \n",
      "11          4 Elements  138941587      play   10.9  0        Great   \n",
      "12          4 Elements   20772968  purchase    1.0  0        Great   \n",
      "13          4 Elements   20772968      play    2.1  0        Great   \n",
      "14       7 Days to Die   59945701  purchase    1.0  0          Bad   \n",
      "15       7 Days to Die   59945701      play    7.8  0          Bad   \n",
      "16       7 Days to Die   92107940  purchase    1.0  0          Bad   \n",
      "17       7 Days to Die   92107940      play   99.0  0          Bad   \n",
      "18       7 Days to Die   86338111  purchase    1.0  0          Bad   \n",
      "19       7 Days to Die   86338111      play   18.8  0          Bad   \n",
      "20       7 Days to Die  111316830  purchase    1.0  0          Bad   \n",
      "21       7 Days to Die   92914917  purchase    1.0  0          Bad   \n",
      "22       7 Days to Die   43913966  purchase    1.0  0          Bad   \n",
      "23       7 Days to Die   43913966      play    6.4  0          Bad   \n",
      "24       7 Days to Die  195171884  purchase    1.0  0          Bad   \n",
      "25       7 Days to Die  195171884      play  336.0  0          Bad   \n",
      "26       7 Days to Die   12610800  purchase    1.0  0          Bad   \n",
      "27       7 Days to Die  131940023  purchase    1.0  0          Bad   \n",
      "28       7 Days to Die  131940023      play  371.0  0          Bad   \n",
      "29       7 Days to Die  106147454  purchase    1.0  0          Bad   \n",
      "...                ...        ...       ...    ... ..          ...   \n",
      "135066      Zeno Clash   48525807      play    0.7  0        Great   \n",
      "135067      Zooloretto   30246419  purchase    1.0  0        Great   \n",
      "135068     Zuma Deluxe   62985928  purchase    1.0  0        Great   \n",
      "135069     Zuma Deluxe    2259650  purchase    1.0  0        Great   \n",
      "135070     Zuma Deluxe   62878249  purchase    1.0  0        Great   \n",
      "135071     Zuma Deluxe   62878249      play    0.5  0        Great   \n",
      "135072     Zuma Deluxe   35264447  purchase    1.0  0        Great   \n",
      "135073  Zuma's Revenge  110899658  purchase    1.0  0        Great   \n",
      "135074  Zuma's Revenge  110899658  purchase    1.0  0         Good   \n",
      "135075  Zuma's Revenge  110899658      play  126.0  0        Great   \n",
      "135076  Zuma's Revenge  110899658      play  126.0  0         Good   \n",
      "135077  Zuma's Revenge   12144171  purchase    1.0  0        Great   \n",
      "135078  Zuma's Revenge   12144171  purchase    1.0  0         Good   \n",
      "135079  Zuma's Revenge   12144171      play    1.2  0        Great   \n",
      "135080  Zuma's Revenge   12144171      play    1.2  0         Good   \n",
      "135081  Zuma's Revenge   59825286  purchase    1.0  0        Great   \n",
      "135082  Zuma's Revenge   59825286  purchase    1.0  0         Good   \n",
      "135083  Zuma's Revenge   69954842  purchase    1.0  0        Great   \n",
      "135084  Zuma's Revenge   69954842  purchase    1.0  0         Good   \n",
      "135085  Zuma's Revenge   69954842      play    9.3  0        Great   \n",
      "135086  Zuma's Revenge   69954842      play    9.3  0         Good   \n",
      "135087        realMyst   69009454  purchase    1.0  0         Okay   \n",
      "135088        realMyst   39082468  purchase    1.0  0         Okay   \n",
      "135089        realMyst   39082468      play    0.2  0         Okay   \n",
      "135090        realMyst   33865373  purchase    1.0  0         Okay   \n",
      "135091        realMyst   65531742  purchase    1.0  0         Okay   \n",
      "135092        realMyst   65531742      play    0.1  0         Okay   \n",
      "135093        realMyst   36557643  purchase    1.0  0         Okay   \n",
      "135094        realMyst   60859695  purchase    1.0  0         Okay   \n",
      "135095        realMyst   60859695      play    1.2  0         Okay   \n",
      "\n",
      "                                           url       platform  score  \\\n",
      "0           /games/007-legends/xbox-360-132394       Xbox 360    4.5   \n",
      "1                /games/007-legends/ps3-132391  PlayStation 3    4.5   \n",
      "2              /games/007-legends/wii-u-142949          Wii U    4.2   \n",
      "3           /games/007-legends/xbox-360-132394       Xbox 360    4.5   \n",
      "4                /games/007-legends/ps3-132391  PlayStation 3    4.5   \n",
      "5              /games/007-legends/wii-u-142949          Wii U    4.2   \n",
      "6                /games/4-elements/pc-14282203             PC    8.0   \n",
      "7                /games/4-elements/pc-14282203             PC    8.0   \n",
      "8                /games/4-elements/pc-14282203             PC    8.0   \n",
      "9                /games/4-elements/pc-14282203             PC    8.0   \n",
      "10               /games/4-elements/pc-14282203             PC    8.0   \n",
      "11               /games/4-elements/pc-14282203             PC    8.0   \n",
      "12               /games/4-elements/pc-14282203             PC    8.0   \n",
      "13               /games/4-elements/pc-14282203             PC    8.0   \n",
      "14      /games/7-days-to-die/xbox-one-20051934       Xbox One    4.9   \n",
      "15      /games/7-days-to-die/xbox-one-20051934       Xbox One    4.9   \n",
      "16      /games/7-days-to-die/xbox-one-20051934       Xbox One    4.9   \n",
      "17      /games/7-days-to-die/xbox-one-20051934       Xbox One    4.9   \n",
      "18      /games/7-days-to-die/xbox-one-20051934       Xbox One    4.9   \n",
      "19      /games/7-days-to-die/xbox-one-20051934       Xbox One    4.9   \n",
      "20      /games/7-days-to-die/xbox-one-20051934       Xbox One    4.9   \n",
      "21      /games/7-days-to-die/xbox-one-20051934       Xbox One    4.9   \n",
      "22      /games/7-days-to-die/xbox-one-20051934       Xbox One    4.9   \n",
      "23      /games/7-days-to-die/xbox-one-20051934       Xbox One    4.9   \n",
      "24      /games/7-days-to-die/xbox-one-20051934       Xbox One    4.9   \n",
      "25      /games/7-days-to-die/xbox-one-20051934       Xbox One    4.9   \n",
      "26      /games/7-days-to-die/xbox-one-20051934       Xbox One    4.9   \n",
      "27      /games/7-days-to-die/xbox-one-20051934       Xbox One    4.9   \n",
      "28      /games/7-days-to-die/xbox-one-20051934       Xbox One    4.9   \n",
      "29      /games/7-days-to-die/xbox-one-20051934       Xbox One    4.9   \n",
      "...                                        ...            ...    ...   \n",
      "135066             /games/zeno-clash/pc-959787             PC    8.4   \n",
      "135067       /games/zooloretto/iphone-14344251         iPhone    8.0   \n",
      "135068             /games/zuma/xbox-360-777210       Xbox 360    8.0   \n",
      "135069             /games/zuma/xbox-360-777210       Xbox 360    8.0   \n",
      "135070             /games/zuma/xbox-360-777210       Xbox 360    8.0   \n",
      "135071             /games/zuma/xbox-360-777210       Xbox 360    8.0   \n",
      "135072             /games/zuma/xbox-360-777210       Xbox 360    8.0   \n",
      "135073           /games/zumas-revenge/pc-27072             PC    8.0   \n",
      "135074    /games/zumas-revenge/xbox-360-130580       Xbox 360    7.0   \n",
      "135075           /games/zumas-revenge/pc-27072             PC    8.0   \n",
      "135076    /games/zumas-revenge/xbox-360-130580       Xbox 360    7.0   \n",
      "135077           /games/zumas-revenge/pc-27072             PC    8.0   \n",
      "135078    /games/zumas-revenge/xbox-360-130580       Xbox 360    7.0   \n",
      "135079           /games/zumas-revenge/pc-27072             PC    8.0   \n",
      "135080    /games/zumas-revenge/xbox-360-130580       Xbox 360    7.0   \n",
      "135081           /games/zumas-revenge/pc-27072             PC    8.0   \n",
      "135082    /games/zumas-revenge/xbox-360-130580       Xbox 360    7.0   \n",
      "135083           /games/zumas-revenge/pc-27072             PC    8.0   \n",
      "135084    /games/zumas-revenge/xbox-360-130580       Xbox 360    7.0   \n",
      "135085           /games/zumas-revenge/pc-27072             PC    8.0   \n",
      "135086    /games/zumas-revenge/xbox-360-130580       Xbox 360    7.0   \n",
      "135087                /games/realmyst/pc-15612             PC    6.5   \n",
      "135088                /games/realmyst/pc-15612             PC    6.5   \n",
      "135089                /games/realmyst/pc-15612             PC    6.5   \n",
      "135090                /games/realmyst/pc-15612             PC    6.5   \n",
      "135091                /games/realmyst/pc-15612             PC    6.5   \n",
      "135092                /games/realmyst/pc-15612             PC    6.5   \n",
      "135093                /games/realmyst/pc-15612             PC    6.5   \n",
      "135094                /games/realmyst/pc-15612             PC    6.5   \n",
      "135095                /games/realmyst/pc-15612             PC    6.5   \n",
      "\n",
      "                     genre editors_choice  release_year  release_month  \\\n",
      "0                   Action              N          2012             10   \n",
      "1                   Action              N          2012             10   \n",
      "2                   Action              N          2013              1   \n",
      "3                   Action              N          2012             10   \n",
      "4                   Action              N          2012             10   \n",
      "5                   Action              N          2013              1   \n",
      "6                   Puzzle              N          2008              9   \n",
      "7                   Puzzle              N          2008              9   \n",
      "8                   Puzzle              N          2008              9   \n",
      "9                   Puzzle              N          2008              9   \n",
      "10                  Puzzle              N          2008              9   \n",
      "11                  Puzzle              N          2008              9   \n",
      "12                  Puzzle              N          2008              9   \n",
      "13                  Puzzle              N          2008              9   \n",
      "14      Shooter, Adventure              N          2016              7   \n",
      "15      Shooter, Adventure              N          2016              7   \n",
      "16      Shooter, Adventure              N          2016              7   \n",
      "17      Shooter, Adventure              N          2016              7   \n",
      "18      Shooter, Adventure              N          2016              7   \n",
      "19      Shooter, Adventure              N          2016              7   \n",
      "20      Shooter, Adventure              N          2016              7   \n",
      "21      Shooter, Adventure              N          2016              7   \n",
      "22      Shooter, Adventure              N          2016              7   \n",
      "23      Shooter, Adventure              N          2016              7   \n",
      "24      Shooter, Adventure              N          2016              7   \n",
      "25      Shooter, Adventure              N          2016              7   \n",
      "26      Shooter, Adventure              N          2016              7   \n",
      "27      Shooter, Adventure              N          2016              7   \n",
      "28      Shooter, Adventure              N          2016              7   \n",
      "29      Shooter, Adventure              N          2016              7   \n",
      "...                    ...            ...           ...            ...   \n",
      "135066              Action              N          2009              4   \n",
      "135067            Strategy              N          2009              6   \n",
      "135068              Puzzle              N          2006              1   \n",
      "135069              Puzzle              N          2006              1   \n",
      "135070              Puzzle              N          2006              1   \n",
      "135071              Puzzle              N          2006              1   \n",
      "135072              Puzzle              N          2006              1   \n",
      "135073              Puzzle              N          2009              9   \n",
      "135074              Puzzle              N          2012              7   \n",
      "135075              Puzzle              N          2009              9   \n",
      "135076              Puzzle              N          2012              7   \n",
      "135077              Puzzle              N          2009              9   \n",
      "135078              Puzzle              N          2012              7   \n",
      "135079              Puzzle              N          2009              9   \n",
      "135080              Puzzle              N          2012              7   \n",
      "135081              Puzzle              N          2009              9   \n",
      "135082              Puzzle              N          2012              7   \n",
      "135083              Puzzle              N          2009              9   \n",
      "135084              Puzzle              N          2012              7   \n",
      "135085              Puzzle              N          2009              9   \n",
      "135086              Puzzle              N          2012              7   \n",
      "135087           Adventure              N          2000             11   \n",
      "135088           Adventure              N          2000             11   \n",
      "135089           Adventure              N          2000             11   \n",
      "135090           Adventure              N          2000             11   \n",
      "135091           Adventure              N          2000             11   \n",
      "135092           Adventure              N          2000             11   \n",
      "135093           Adventure              N          2000             11   \n",
      "135094           Adventure              N          2000             11   \n",
      "135095           Adventure              N          2000             11   \n",
      "\n",
      "        release_day  \n",
      "0                16  \n",
      "1                16  \n",
      "2                14  \n",
      "3                16  \n",
      "4                16  \n",
      "5                14  \n",
      "6                19  \n",
      "7                19  \n",
      "8                19  \n",
      "9                19  \n",
      "10               19  \n",
      "11               19  \n",
      "12               19  \n",
      "13               19  \n",
      "14               13  \n",
      "15               13  \n",
      "16               13  \n",
      "17               13  \n",
      "18               13  \n",
      "19               13  \n",
      "20               13  \n",
      "21               13  \n",
      "22               13  \n",
      "23               13  \n",
      "24               13  \n",
      "25               13  \n",
      "26               13  \n",
      "27               13  \n",
      "28               13  \n",
      "29               13  \n",
      "...             ...  \n",
      "135066           24  \n",
      "135067           25  \n",
      "135068            4  \n",
      "135069            4  \n",
      "135070            4  \n",
      "135071            4  \n",
      "135072            4  \n",
      "135073           15  \n",
      "135074           11  \n",
      "135075           15  \n",
      "135076           11  \n",
      "135077           15  \n",
      "135078           11  \n",
      "135079           15  \n",
      "135080           11  \n",
      "135081           15  \n",
      "135082           11  \n",
      "135083           15  \n",
      "135084           11  \n",
      "135085           15  \n",
      "135086           11  \n",
      "135087           13  \n",
      "135088           13  \n",
      "135089           13  \n",
      "135090           13  \n",
      "135091           13  \n",
      "135092           13  \n",
      "135093           13  \n",
      "135094           13  \n",
      "135095           13  \n",
      "\n",
      "[135096 rows x 14 columns]\n"
     ]
    }
   ],
   "source": [
    "data = pd.read_csv('data/complete_dataset.csv', header = 0, index_col = None)\n",
    "print(data)"
   ]
  },
  {
   "cell_type": "code",
   "execution_count": 3,
   "metadata": {
    "collapsed": false
   },
   "outputs": [],
   "source": [
    "data2 = pd.DataFrame.from_dict({'Name' : data['Name'], 'Id' : data['0']})"
   ]
  },
  {
   "cell_type": "code",
   "execution_count": 5,
   "metadata": {
    "collapsed": false
   },
   "outputs": [],
   "source": [
    "games = list(set(data2['Name']))\n",
    "users = list(set(data2['Id']))"
   ]
  },
  {
   "cell_type": "code",
   "execution_count": 6,
   "metadata": {
    "collapsed": false
   },
   "outputs": [
    {
     "name": "stdout",
     "output_type": "stream",
     "text": [
      "135096\n"
     ]
    }
   ],
   "source": [
    "user_games = [[0 for x in range(len(games))] for y in range(len(users))]\n",
    "lastUser = None\n",
    "lastIndex = -1\n",
    "print(len(data2['Name']))\n",
    "for i in range(len(data2['Name'])):\n",
    "    game = data2['Name'][i]\n",
    "    user = data2['Id'][i]\n",
    "    if user != lastUser:\n",
    "        lastIndex = users.index(user)\n",
    "        lastUser = user\n",
    "    user_games[lastIndex][games.index(game)] = 1"
   ]
  },
  {
   "cell_type": "code",
   "execution_count": 7,
   "metadata": {
    "collapsed": false
   },
   "outputs": [
    {
     "name": "stdout",
     "output_type": "stream",
     "text": [
      "787\n",
      "9562\n"
     ]
    }
   ],
   "source": [
    "print(len(games))\n",
    "print(len(users))"
   ]
  },
  {
   "cell_type": "code",
   "execution_count": 8,
   "metadata": {
    "collapsed": true
   },
   "outputs": [],
   "source": [
    "encode = dict()\n",
    "ids = []\n",
    "for game in games:\n",
    "    encode[game] = []\n",
    "\n",
    "for i in range(len(users)):\n",
    "    ids.append(users[i])\n",
    "    \n",
    "    for j in range(len(games)):\n",
    "        encode[games[j]].append(user_games[i][j])"
   ]
  },
  {
   "cell_type": "code",
   "execution_count": 9,
   "metadata": {
    "collapsed": true
   },
   "outputs": [],
   "source": [
    "encodedData = pd.DataFrame.from_dict(encode)\n",
    "encodedData.insert(0, 'Id', ids)"
   ]
  },
  {
   "cell_type": "code",
   "execution_count": 10,
   "metadata": {
    "collapsed": false
   },
   "outputs": [
    {
     "name": "stdout",
     "output_type": "stream",
     "text": [
      "             Id  007 Legends  4 Elements  7 Days to Die  A Bird Story  \\\n",
      "0      64350487            0           0              0             0   \n",
      "1     179044354            0           0              0             0   \n",
      "2     194800299            0           0              0             0   \n",
      "3     234749963            0           0              0             0   \n",
      "4      27099151            0           0              0             0   \n",
      "5     177831964            0           0              0             0   \n",
      "6      94229851            0           0              0             0   \n",
      "7     271646756            0           0              0             0   \n",
      "8     167575590            0           0              0             0   \n",
      "9     165216297            0           0              0             0   \n",
      "10    195559468            0           0              0             0   \n",
      "11     60424237            0           0              0             0   \n",
      "12     69009454            0           0              0             0   \n",
      "13    251920440            0           0              0             0   \n",
      "14     31162433            0           0              0             0   \n",
      "15    289734724            0           0              0             0   \n",
      "16     27060918            0           0              0             0   \n",
      "17     57770056            0           0              0             0   \n",
      "18    304971849            0           0              0             0   \n",
      "19    147619919            0           0              0             0   \n",
      "20    115567288            0           0              0             0   \n",
      "21    254836819            0           0              0             0   \n",
      "22     94994519            0           0              0             0   \n",
      "23      4325465            0           0              0             0   \n",
      "24    270303324            0           0              0             0   \n",
      "25     70778973            0           0              0             0   \n",
      "26    178290786            0           0              0             0   \n",
      "27    124878949            0           0              0             0   \n",
      "28    300187751            0           0              0             0   \n",
      "29    122847338            0           0              0             0   \n",
      "...         ...          ...         ...            ...           ...   \n",
      "9532   17530772            0           0              0             0   \n",
      "9533   82542485            0           0              0             0   \n",
      "9534  307232663            0           0              0             0   \n",
      "9535  163086238            0           0              0             0   \n",
      "9536  222035871            0           0              0             0   \n",
      "9537  159814545            0           0              0             0   \n",
      "9538   85426082            0           0              0             0   \n",
      "9539   62848935            0           0              0             0   \n",
      "9540  145260456            0           0              0             0   \n",
      "9541  264929200            0           0              0             0   \n",
      "9542  155844529            0           0              0             0   \n",
      "9543   46759859            0           0              0             0   \n",
      "9544   67633077            0           0              0             0   \n",
      "9545  187498422            0           0              0             0   \n",
      "9546  172195770            0           0              0             0   \n",
      "9547   14417857            0           0              0             0   \n",
      "9548   85458882            0           0              0             0   \n",
      "9549  113835971            0           0              0             0   \n",
      "9550  154533830            0           0              0             0   \n",
      "9551  231210957            0           0              0             0   \n",
      "9552  142409681            0           0              0             0   \n",
      "9553   52723676            0           0              0             0   \n",
      "9554   38731746            0           0              0             0   \n",
      "9555  222363622            0           0              0             0   \n",
      "9556   31817706            0           0              0             0   \n",
      "9557  143917036            0           0              0             0   \n",
      "9558  290081808            0           0              0             0   \n",
      "9559  122486775            0           0              0             0   \n",
      "9560    6979578            0           0              0             0   \n",
      "9561  128570709            0           0              0             0   \n",
      "\n",
      "      A Valley Without Wind  A Vampyre Story  Abyss Odyssey  Ace of Spades  \\\n",
      "0                         0                0              0              0   \n",
      "1                         0                0              0              0   \n",
      "2                         0                0              0              0   \n",
      "3                         0                0              0              0   \n",
      "4                         0                0              0              0   \n",
      "5                         0                0              0              0   \n",
      "6                         0                0              0              0   \n",
      "7                         0                0              0              0   \n",
      "8                         0                0              0              0   \n",
      "9                         0                0              0              0   \n",
      "10                        0                0              0              0   \n",
      "11                        0                0              0              0   \n",
      "12                        0                0              0              0   \n",
      "13                        0                0              0              0   \n",
      "14                        0                0              0              0   \n",
      "15                        0                0              0              0   \n",
      "16                        0                0              0              0   \n",
      "17                        0                0              0              0   \n",
      "18                        0                0              0              0   \n",
      "19                        0                0              0              0   \n",
      "20                        0                0              0              0   \n",
      "21                        0                0              0              0   \n",
      "22                        0                0              0              0   \n",
      "23                        0                0              0              0   \n",
      "24                        0                0              0              0   \n",
      "25                        0                0              0              0   \n",
      "26                        0                0              0              0   \n",
      "27                        0                0              0              0   \n",
      "28                        0                0              0              0   \n",
      "29                        0                0              0              0   \n",
      "...                     ...              ...            ...            ...   \n",
      "9532                      0                0              0              0   \n",
      "9533                      0                0              0              0   \n",
      "9534                      0                0              0              0   \n",
      "9535                      0                0              0              0   \n",
      "9536                      0                0              0              0   \n",
      "9537                      0                0              0              0   \n",
      "9538                      0                0              0              0   \n",
      "9539                      0                0              0              0   \n",
      "9540                      0                0              0              0   \n",
      "9541                      0                0              0              0   \n",
      "9542                      0                0              0              0   \n",
      "9543                      0                0              0              0   \n",
      "9544                      0                0              0              0   \n",
      "9545                      0                0              0              0   \n",
      "9546                      0                0              0              0   \n",
      "9547                      0                0              0              0   \n",
      "9548                      0                0              0              0   \n",
      "9549                      0                0              0              0   \n",
      "9550                      0                0              0              0   \n",
      "9551                      0                0              0              0   \n",
      "9552                      0                0              0              0   \n",
      "9553                      0                0              0              0   \n",
      "9554                      0                0              0              0   \n",
      "9555                      0                0              0              0   \n",
      "9556                      0                0              0              0   \n",
      "9557                      0                0              0              0   \n",
      "9558                      0                0              0              0   \n",
      "9559                      0                0              0              0   \n",
      "9560                      0                0              0              0   \n",
      "9561                      0                0              0              0   \n",
      "\n",
      "      Achron    ...     Xpand Rally  Year Walk  Yosumin!  Zack Zero  \\\n",
      "0          0    ...               0          0         0          0   \n",
      "1          0    ...               0          0         0          0   \n",
      "2          0    ...               0          0         0          0   \n",
      "3          0    ...               0          0         0          0   \n",
      "4          0    ...               0          0         0          0   \n",
      "5          0    ...               0          0         0          0   \n",
      "6          0    ...               0          0         0          0   \n",
      "7          0    ...               0          0         0          0   \n",
      "8          0    ...               0          0         0          0   \n",
      "9          0    ...               0          0         0          0   \n",
      "10         0    ...               0          0         0          0   \n",
      "11         0    ...               0          0         0          0   \n",
      "12         0    ...               0          0         0          0   \n",
      "13         0    ...               0          0         0          0   \n",
      "14         0    ...               0          0         0          0   \n",
      "15         0    ...               0          0         0          0   \n",
      "16         0    ...               0          0         0          0   \n",
      "17         0    ...               0          0         0          0   \n",
      "18         0    ...               0          0         0          0   \n",
      "19         0    ...               0          0         0          0   \n",
      "20         0    ...               0          0         0          0   \n",
      "21         0    ...               0          0         0          0   \n",
      "22         0    ...               0          0         0          0   \n",
      "23         0    ...               0          0         0          0   \n",
      "24         0    ...               0          0         0          0   \n",
      "25         0    ...               0          0         0          0   \n",
      "26         0    ...               0          0         0          0   \n",
      "27         0    ...               0          0         0          0   \n",
      "28         0    ...               0          0         0          0   \n",
      "29         0    ...               0          0         0          0   \n",
      "...      ...    ...             ...        ...       ...        ...   \n",
      "9532       0    ...               0          0         0          0   \n",
      "9533       0    ...               0          0         0          0   \n",
      "9534       0    ...               0          0         0          0   \n",
      "9535       0    ...               0          0         0          0   \n",
      "9536       0    ...               0          0         0          0   \n",
      "9537       0    ...               0          0         0          0   \n",
      "9538       0    ...               0          0         0          0   \n",
      "9539       0    ...               0          0         0          0   \n",
      "9540       0    ...               0          0         0          0   \n",
      "9541       0    ...               0          0         0          0   \n",
      "9542       0    ...               0          0         0          0   \n",
      "9543       0    ...               0          0         0          0   \n",
      "9544       0    ...               0          0         0          0   \n",
      "9545       0    ...               0          0         0          0   \n",
      "9546       0    ...               0          0         0          0   \n",
      "9547       0    ...               0          0         0          0   \n",
      "9548       0    ...               0          0         0          0   \n",
      "9549       0    ...               0          0         0          0   \n",
      "9550       0    ...               0          0         0          0   \n",
      "9551       0    ...               0          0         0          0   \n",
      "9552       0    ...               0          0         0          0   \n",
      "9553       0    ...               0          0         0          0   \n",
      "9554       0    ...               0          0         0          0   \n",
      "9555       0    ...               0          0         0          0   \n",
      "9556       0    ...               0          0         0          0   \n",
      "9557       0    ...               0          0         0          0   \n",
      "9558       0    ...               0          0         0          0   \n",
      "9559       0    ...               0          0         0          0   \n",
      "9560       0    ...               0          0         0          0   \n",
      "9561       0    ...               0          0         0          0   \n",
      "\n",
      "      Zen Bound 2  Zeno Clash  Zooloretto  Zuma Deluxe  Zuma's Revenge  \\\n",
      "0               0           0           0            0               0   \n",
      "1               0           0           0            0               0   \n",
      "2               0           0           0            0               0   \n",
      "3               0           0           0            0               0   \n",
      "4               0           0           0            0               0   \n",
      "5               0           0           0            0               0   \n",
      "6               0           0           0            0               0   \n",
      "7               0           0           0            0               0   \n",
      "8               0           0           0            0               0   \n",
      "9               0           0           0            0               0   \n",
      "10              0           0           0            0               0   \n",
      "11              0           0           0            0               0   \n",
      "12              0           0           0            0               0   \n",
      "13              0           0           0            0               0   \n",
      "14              0           0           0            0               0   \n",
      "15              0           0           0            0               0   \n",
      "16              0           0           0            0               0   \n",
      "17              0           0           0            0               0   \n",
      "18              0           0           0            0               0   \n",
      "19              0           0           0            0               0   \n",
      "20              0           0           0            0               0   \n",
      "21              0           0           0            0               0   \n",
      "22              0           0           0            0               0   \n",
      "23              0           0           0            0               0   \n",
      "24              0           0           0            0               0   \n",
      "25              0           0           0            0               0   \n",
      "26              0           0           0            0               0   \n",
      "27              0           0           0            0               0   \n",
      "28              0           0           0            0               0   \n",
      "29              0           0           0            0               0   \n",
      "...           ...         ...         ...          ...             ...   \n",
      "9532            0           0           0            0               0   \n",
      "9533            0           0           0            0               0   \n",
      "9534            0           0           0            0               0   \n",
      "9535            0           0           0            0               0   \n",
      "9536            0           0           0            0               0   \n",
      "9537            0           0           0            0               0   \n",
      "9538            0           0           0            0               0   \n",
      "9539            0           0           0            0               0   \n",
      "9540            0           0           0            0               0   \n",
      "9541            0           0           0            0               0   \n",
      "9542            0           0           0            0               0   \n",
      "9543            0           0           0            0               0   \n",
      "9544            0           0           0            0               0   \n",
      "9545            0           0           0            0               0   \n",
      "9546            0           0           0            0               0   \n",
      "9547            0           0           0            0               0   \n",
      "9548            0           0           0            0               0   \n",
      "9549            0           0           0            0               0   \n",
      "9550            0           0           0            0               0   \n",
      "9551            0           0           0            0               0   \n",
      "9552            0           0           0            0               0   \n",
      "9553            0           0           0            0               0   \n",
      "9554            0           0           0            0               0   \n",
      "9555            0           0           0            0               0   \n",
      "9556            0           0           0            0               0   \n",
      "9557            0           0           0            0               0   \n",
      "9558            0           0           0            0               0   \n",
      "9559            0           0           0            0               0   \n",
      "9560            0           0           0            0               0   \n",
      "9561            0           0           0            0               0   \n",
      "\n",
      "      realMyst  \n",
      "0            0  \n",
      "1            0  \n",
      "2            0  \n",
      "3            0  \n",
      "4            0  \n",
      "5            0  \n",
      "6            0  \n",
      "7            0  \n",
      "8            0  \n",
      "9            0  \n",
      "10           0  \n",
      "11           0  \n",
      "12           1  \n",
      "13           0  \n",
      "14           0  \n",
      "15           0  \n",
      "16           0  \n",
      "17           0  \n",
      "18           0  \n",
      "19           0  \n",
      "20           0  \n",
      "21           0  \n",
      "22           0  \n",
      "23           0  \n",
      "24           0  \n",
      "25           0  \n",
      "26           0  \n",
      "27           0  \n",
      "28           0  \n",
      "29           0  \n",
      "...        ...  \n",
      "9532         0  \n",
      "9533         0  \n",
      "9534         0  \n",
      "9535         0  \n",
      "9536         0  \n",
      "9537         0  \n",
      "9538         0  \n",
      "9539         0  \n",
      "9540         0  \n",
      "9541         0  \n",
      "9542         0  \n",
      "9543         0  \n",
      "9544         0  \n",
      "9545         0  \n",
      "9546         0  \n",
      "9547         0  \n",
      "9548         0  \n",
      "9549         0  \n",
      "9550         0  \n",
      "9551         0  \n",
      "9552         0  \n",
      "9553         0  \n",
      "9554         0  \n",
      "9555         0  \n",
      "9556         0  \n",
      "9557         0  \n",
      "9558         0  \n",
      "9559         0  \n",
      "9560         0  \n",
      "9561         0  \n",
      "\n",
      "[9562 rows x 788 columns]\n"
     ]
    }
   ],
   "source": [
    "print(encodedData)"
   ]
  },
  {
   "cell_type": "code",
   "execution_count": 11,
   "metadata": {
    "collapsed": true
   },
   "outputs": [],
   "source": [
    "encodedData.to_csv('data/encodedData.csv')"
   ]
  },
  {
   "cell_type": "code",
   "execution_count": 12,
   "metadata": {
    "collapsed": true
   },
   "outputs": [],
   "source": [
    "from sklearn.neighbors import NearestNeighbors"
   ]
  },
  {
   "cell_type": "code",
   "execution_count": 13,
   "metadata": {
    "collapsed": false
   },
   "outputs": [],
   "source": [
    "encodedData = pd.DataFrame.from_dict(encode)"
   ]
  },
  {
   "cell_type": "code",
   "execution_count": 39,
   "metadata": {
    "collapsed": false
   },
   "outputs": [
    {
     "name": "stdout",
     "output_type": "stream",
     "text": [
      "4 Elements                       0\n",
      "7 Days to Die                    0\n",
      "A Vampyre Story                  0\n",
      "Advent Rising                    0\n",
      "Age of Empires Online            0\n",
      "Alan Wake                        0\n",
      "Alone in the Dark                0\n",
      "Alpha Protocol                   0\n",
      "Anno 2070                        0\n",
      "Anno 2205                        0\n",
      "Arx Fatalis                      0\n",
      "Assassin's Creed                 0\n",
      "Assassin's Creed II              0\n",
      "Assassin's Creed III             0\n",
      "Assassin's Creed Syndicate       0\n",
      "Assetto Corsa                    0\n",
      "Battlefield 2                    0\n",
      "Bejeweled 3                      0\n",
      "Bejeweled Twist                  0\n",
      "Beyond Good & Evil               0\n",
      "Binary Domain                    0\n",
      "BioShock                         0\n",
      "BioShock 2                       0\n",
      "BioShock Infinite                0\n",
      "Bionic Commando                  0\n",
      "BloodRayne                       0\n",
      "BloodRayne 2                     0\n",
      "Blur                             0\n",
      "Borderlands                      0\n",
      "Borderlands 2                    0\n",
      "                                ..\n",
      "Tomb Raider                      0\n",
      "Tomb Raider Chronicles           0\n",
      "Torchlight                       0\n",
      "Trapped Dead                     0\n",
      "Trials Fusion                    0\n",
      "Trine                            0\n",
      "Trine 2                          0\n",
      "Tropico 4                        0\n",
      "Tropico 5                        0\n",
      "Two Worlds II                    0\n",
      "Ultra Street Fighter IV          0\n",
      "Unreal Tournament 2004           0\n",
      "Urban Chaos                      0\n",
      "Valkyria Chronicles              0\n",
      "Velvet Assassin                  0\n",
      "Venetica                         0\n",
      "Virtua Tennis 4                  0\n",
      "WWE 2K15                         0\n",
      "Wasteland 2                      0\n",
      "Way of the Samurai 4             0\n",
      "Wolfenstein                      0\n",
      "World in Conflict                0\n",
      "World of Goo                     0\n",
      "Worldwide Soccer Manager 2009    0\n",
      "Worms                            0\n",
      "Worms Armageddon                 0\n",
      "Worms Blast                      0\n",
      "Worms Reloaded                   0\n",
      "X Rebirth                        0\n",
      "X-Blades                         0\n",
      "Name: 0, dtype: int64\n"
     ]
    }
   ],
   "source": [
    "print(encodedData.iloc[0][:])"
   ]
  },
  {
   "cell_type": "code",
   "execution_count": 14,
   "metadata": {
    "collapsed": false
   },
   "outputs": [
    {
     "data": {
      "text/plain": [
       "NearestNeighbors(algorithm='auto', leaf_size=30, metric='minkowski',\n",
       "         metric_params=None, n_jobs=1, n_neighbors=50, p=2, radius=1.0)"
      ]
     },
     "execution_count": 14,
     "metadata": {},
     "output_type": "execute_result"
    }
   ],
   "source": [
    "knn = NearestNeighbors(50)\n",
    "knn.fit(encodedData)"
   ]
  },
  {
   "cell_type": "code",
   "execution_count": 15,
   "metadata": {
    "collapsed": false
   },
   "outputs": [
    {
     "name": "stdout",
     "output_type": "stream",
     "text": [
      "[2889 3822 7804 5422 6044 8485 9523  612 3325 1461 5521 7886 8215 8697 9174\n",
      " 4172 4666 5030   73  145  600  264  737    0  792 1281 1765 1670 1848 7936\n",
      " 8541 3116 2709 2460 4443 4009 4253 4945 3784 3937 4083 5219 4626 5264   40\n",
      " 5307 2571 3428 3458 2826]\n"
     ]
    },
    {
     "name": "stderr",
     "output_type": "stream",
     "text": [
      "C:\\ProgramData\\Anaconda2\\lib\\site-packages\\sklearn\\utils\\validation.py:395: DeprecationWarning: Passing 1d arrays as data is deprecated in 0.17 and will raise ValueError in 0.19. Reshape your data either using X.reshape(-1, 1) if your data has a single feature or X.reshape(1, -1) if it contains a single sample.\n",
      "  DeprecationWarning)\n"
     ]
    }
   ],
   "source": [
    "print(knn.kneighbors(encodedData.iloc[0][:])[1][0])"
   ]
  },
  {
   "cell_type": "code",
   "execution_count": 16,
   "metadata": {
    "collapsed": false
   },
   "outputs": [
    {
     "name": "stdout",
     "output_type": "stream",
     "text": [
      "[3001 4340 2390 4326 1247 2376 3558 4268  465 1224 1596 2187 3100 3422 3771\n",
      " 4042  195  432  933 1061 1329 1568 1889 2143 2870 3026 3145 3173 3649 3742\n",
      " 3953 3978   78   97  221  346  784  889 1055 1058 1296 1315 1476 1524 1597\n",
      " 1667 2096 2492 2611 2080]\n"
     ]
    },
    {
     "name": "stderr",
     "output_type": "stream",
     "text": [
      "C:\\ProgramData\\Anaconda2\\lib\\site-packages\\sklearn\\utils\\validation.py:395: DeprecationWarning: Passing 1d arrays as data is deprecated in 0.17 and will raise ValueError in 0.19. Reshape your data either using X.reshape(-1, 1) if your data has a single feature or X.reshape(1, -1) if it contains a single sample.\n",
      "  DeprecationWarning)\n"
     ]
    }
   ],
   "source": [
    "print(knn.kneighbors(encodedData.iloc[784][:])[1][0])"
   ]
  },
  {
   "cell_type": "code",
   "execution_count": 17,
   "metadata": {
    "collapsed": false
   },
   "outputs": [
    {
     "name": "stdout",
     "output_type": "stream",
     "text": [
      "[3213 4116 3082 4110 2069 2977 3979 4007 1473 2025 2705 2943 3664 3954 1372\n",
      " 1359  939 1454 1634 1794 2401 2439 2814 2899 3158 3303 1128 3825 1248 1307\n",
      " 1309 1330  174  440 1395 1400 1478 1558 1676 1712  905 2241  614  635  863\n",
      "  709  767 1050 1374  804]\n"
     ]
    },
    {
     "name": "stderr",
     "output_type": "stream",
     "text": [
      "C:\\ProgramData\\Anaconda2\\lib\\site-packages\\sklearn\\utils\\validation.py:395: DeprecationWarning: Passing 1d arrays as data is deprecated in 0.17 and will raise ValueError in 0.19. Reshape your data either using X.reshape(-1, 1) if your data has a single feature or X.reshape(1, -1) if it contains a single sample.\n",
      "  DeprecationWarning)\n"
     ]
    }
   ],
   "source": [
    "print(knn.kneighbors(encodedData.iloc[3954][:])[1][0])"
   ]
  },
  {
   "cell_type": "code",
   "execution_count": 21,
   "metadata": {
    "collapsed": false
   },
   "outputs": [
    {
     "name": "stderr",
     "output_type": "stream",
     "text": [
      "C:\\ProgramData\\Anaconda2\\lib\\site-packages\\sklearn\\utils\\validation.py:395: DeprecationWarning: Passing 1d arrays as data is deprecated in 0.17 and will raise ValueError in 0.19. Reshape your data either using X.reshape(-1, 1) if your data has a single feature or X.reshape(1, -1) if it contains a single sample.\n",
      "  DeprecationWarning)\n"
     ]
    }
   ],
   "source": [
    "indexes = knn.kneighbors(encodedData.iloc[0][:])[1][0]\n",
    "total = [0] * len(games)\n",
    "for i in indexes:\n",
    "    cur = encodedData.iloc[i][:]\n",
    "    for x in range(len(cur)):\n",
    "        if cur[x] == 1:\n",
    "            total[x] += 1"
   ]
  },
  {
   "cell_type": "code",
   "execution_count": 23,
   "metadata": {
    "collapsed": false
   },
   "outputs": [
    {
     "name": "stdout",
     "output_type": "stream",
     "text": [
      "1\n",
      "Way of the Samurai 4\n",
      "1\n",
      "Fallout 2\n",
      "8\n",
      "Contrast\n",
      "1\n",
      "Order of War\n",
      "50\n",
      "Tom Clancy's Splinter Cell Double Agent\n",
      "1\n",
      "Tales of Zestiria\n",
      "1\n",
      "BloodRayne\n",
      "4\n",
      "Star Wars Republic Commando\n"
     ]
    }
   ],
   "source": [
    "for i in range(len(total)):\n",
    "    if total[i] > 0:\n",
    "        print(total[i])\n",
    "        print(games[i])"
   ]
  },
  {
   "cell_type": "code",
   "execution_count": null,
   "metadata": {
    "collapsed": true
   },
   "outputs": [],
   "source": [
    "for x in range(len(encodedData.iloc[0][:])):\n",
    "    \n",
    "    print(games[y])"
   ]
  }
 ],
 "metadata": {
  "kernelspec": {
   "display_name": "Python 2",
   "language": "python",
   "name": "python2"
  },
  "language_info": {
   "codemirror_mode": {
    "name": "ipython",
    "version": 2
   },
   "file_extension": ".py",
   "mimetype": "text/x-python",
   "name": "python",
   "nbconvert_exporter": "python",
   "pygments_lexer": "ipython2",
   "version": "2.7.13"
  }
 },
 "nbformat": 4,
 "nbformat_minor": 2
}
