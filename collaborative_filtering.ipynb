{
 "cells": [
  {
   "cell_type": "code",
   "execution_count": 1,
   "metadata": {
    "collapsed": true
   },
   "outputs": [],
   "source": [
    "import numpy as np\n",
    "import pandas as pd\n",
    "import matplotlib.pyplot as plt\n",
    "import math"
   ]
  },
  {
   "cell_type": "code",
   "execution_count": 2,
   "metadata": {
    "collapsed": false
   },
   "outputs": [
    {
     "name": "stdout",
     "output_type": "stream",
     "text": [
      "                  Name          0         2      3  4 score_phrase  \\\n",
      "0          007 Legends   46055854  purchase    1.0  0          Bad   \n",
      "1          007 Legends   46055854  purchase    1.0  0          Bad   \n",
      "2          007 Legends   46055854  purchase    1.0  0          Bad   \n",
      "3          007 Legends   46055854      play    0.7  0          Bad   \n",
      "4          007 Legends   46055854      play    0.7  0          Bad   \n",
      "5          007 Legends   46055854      play    0.7  0          Bad   \n",
      "6           4 Elements   11373749  purchase    1.0  0        Great   \n",
      "7           4 Elements   11373749      play    9.4  0        Great   \n",
      "8           4 Elements   84455820  purchase    1.0  0        Great   \n",
      "9           4 Elements   84455820      play   37.0  0        Great   \n",
      "10          4 Elements  138941587  purchase    1.0  0        Great   \n",
      "11          4 Elements  138941587      play   10.9  0        Great   \n",
      "12          4 Elements   20772968  purchase    1.0  0        Great   \n",
      "13          4 Elements   20772968      play    2.1  0        Great   \n",
      "14       7 Days to Die   59945701  purchase    1.0  0          Bad   \n",
      "15       7 Days to Die   59945701      play    7.8  0          Bad   \n",
      "16       7 Days to Die   92107940  purchase    1.0  0          Bad   \n",
      "17       7 Days to Die   92107940      play   99.0  0          Bad   \n",
      "18       7 Days to Die   86338111  purchase    1.0  0          Bad   \n",
      "19       7 Days to Die   86338111      play   18.8  0          Bad   \n",
      "20       7 Days to Die  111316830  purchase    1.0  0          Bad   \n",
      "21       7 Days to Die   92914917  purchase    1.0  0          Bad   \n",
      "22       7 Days to Die   43913966  purchase    1.0  0          Bad   \n",
      "23       7 Days to Die   43913966      play    6.4  0          Bad   \n",
      "24       7 Days to Die  195171884  purchase    1.0  0          Bad   \n",
      "25       7 Days to Die  195171884      play  336.0  0          Bad   \n",
      "26       7 Days to Die   12610800  purchase    1.0  0          Bad   \n",
      "27       7 Days to Die  131940023  purchase    1.0  0          Bad   \n",
      "28       7 Days to Die  131940023      play  371.0  0          Bad   \n",
      "29       7 Days to Die  106147454  purchase    1.0  0          Bad   \n",
      "...                ...        ...       ...    ... ..          ...   \n",
      "135066      Zeno Clash   48525807      play    0.7  0        Great   \n",
      "135067      Zooloretto   30246419  purchase    1.0  0        Great   \n",
      "135068     Zuma Deluxe   62985928  purchase    1.0  0        Great   \n",
      "135069     Zuma Deluxe    2259650  purchase    1.0  0        Great   \n",
      "135070     Zuma Deluxe   62878249  purchase    1.0  0        Great   \n",
      "135071     Zuma Deluxe   62878249      play    0.5  0        Great   \n",
      "135072     Zuma Deluxe   35264447  purchase    1.0  0        Great   \n",
      "135073  Zuma's Revenge  110899658  purchase    1.0  0        Great   \n",
      "135074  Zuma's Revenge  110899658  purchase    1.0  0         Good   \n",
      "135075  Zuma's Revenge  110899658      play  126.0  0        Great   \n",
      "135076  Zuma's Revenge  110899658      play  126.0  0         Good   \n",
      "135077  Zuma's Revenge   12144171  purchase    1.0  0        Great   \n",
      "135078  Zuma's Revenge   12144171  purchase    1.0  0         Good   \n",
      "135079  Zuma's Revenge   12144171      play    1.2  0        Great   \n",
      "135080  Zuma's Revenge   12144171      play    1.2  0         Good   \n",
      "135081  Zuma's Revenge   59825286  purchase    1.0  0        Great   \n",
      "135082  Zuma's Revenge   59825286  purchase    1.0  0         Good   \n",
      "135083  Zuma's Revenge   69954842  purchase    1.0  0        Great   \n",
      "135084  Zuma's Revenge   69954842  purchase    1.0  0         Good   \n",
      "135085  Zuma's Revenge   69954842      play    9.3  0        Great   \n",
      "135086  Zuma's Revenge   69954842      play    9.3  0         Good   \n",
      "135087        realMyst   69009454  purchase    1.0  0         Okay   \n",
      "135088        realMyst   39082468  purchase    1.0  0         Okay   \n",
      "135089        realMyst   39082468      play    0.2  0         Okay   \n",
      "135090        realMyst   33865373  purchase    1.0  0         Okay   \n",
      "135091        realMyst   65531742  purchase    1.0  0         Okay   \n",
      "135092        realMyst   65531742      play    0.1  0         Okay   \n",
      "135093        realMyst   36557643  purchase    1.0  0         Okay   \n",
      "135094        realMyst   60859695  purchase    1.0  0         Okay   \n",
      "135095        realMyst   60859695      play    1.2  0         Okay   \n",
      "\n",
      "                                           url       platform  score  \\\n",
      "0           /games/007-legends/xbox-360-132394       Xbox 360    4.5   \n",
      "1                /games/007-legends/ps3-132391  PlayStation 3    4.5   \n",
      "2              /games/007-legends/wii-u-142949          Wii U    4.2   \n",
      "3           /games/007-legends/xbox-360-132394       Xbox 360    4.5   \n",
      "4                /games/007-legends/ps3-132391  PlayStation 3    4.5   \n",
      "5              /games/007-legends/wii-u-142949          Wii U    4.2   \n",
      "6                /games/4-elements/pc-14282203             PC    8.0   \n",
      "7                /games/4-elements/pc-14282203             PC    8.0   \n",
      "8                /games/4-elements/pc-14282203             PC    8.0   \n",
      "9                /games/4-elements/pc-14282203             PC    8.0   \n",
      "10               /games/4-elements/pc-14282203             PC    8.0   \n",
      "11               /games/4-elements/pc-14282203             PC    8.0   \n",
      "12               /games/4-elements/pc-14282203             PC    8.0   \n",
      "13               /games/4-elements/pc-14282203             PC    8.0   \n",
      "14      /games/7-days-to-die/xbox-one-20051934       Xbox One    4.9   \n",
      "15      /games/7-days-to-die/xbox-one-20051934       Xbox One    4.9   \n",
      "16      /games/7-days-to-die/xbox-one-20051934       Xbox One    4.9   \n",
      "17      /games/7-days-to-die/xbox-one-20051934       Xbox One    4.9   \n",
      "18      /games/7-days-to-die/xbox-one-20051934       Xbox One    4.9   \n",
      "19      /games/7-days-to-die/xbox-one-20051934       Xbox One    4.9   \n",
      "20      /games/7-days-to-die/xbox-one-20051934       Xbox One    4.9   \n",
      "21      /games/7-days-to-die/xbox-one-20051934       Xbox One    4.9   \n",
      "22      /games/7-days-to-die/xbox-one-20051934       Xbox One    4.9   \n",
      "23      /games/7-days-to-die/xbox-one-20051934       Xbox One    4.9   \n",
      "24      /games/7-days-to-die/xbox-one-20051934       Xbox One    4.9   \n",
      "25      /games/7-days-to-die/xbox-one-20051934       Xbox One    4.9   \n",
      "26      /games/7-days-to-die/xbox-one-20051934       Xbox One    4.9   \n",
      "27      /games/7-days-to-die/xbox-one-20051934       Xbox One    4.9   \n",
      "28      /games/7-days-to-die/xbox-one-20051934       Xbox One    4.9   \n",
      "29      /games/7-days-to-die/xbox-one-20051934       Xbox One    4.9   \n",
      "...                                        ...            ...    ...   \n",
      "135066             /games/zeno-clash/pc-959787             PC    8.4   \n",
      "135067       /games/zooloretto/iphone-14344251         iPhone    8.0   \n",
      "135068             /games/zuma/xbox-360-777210       Xbox 360    8.0   \n",
      "135069             /games/zuma/xbox-360-777210       Xbox 360    8.0   \n",
      "135070             /games/zuma/xbox-360-777210       Xbox 360    8.0   \n",
      "135071             /games/zuma/xbox-360-777210       Xbox 360    8.0   \n",
      "135072             /games/zuma/xbox-360-777210       Xbox 360    8.0   \n",
      "135073           /games/zumas-revenge/pc-27072             PC    8.0   \n",
      "135074    /games/zumas-revenge/xbox-360-130580       Xbox 360    7.0   \n",
      "135075           /games/zumas-revenge/pc-27072             PC    8.0   \n",
      "135076    /games/zumas-revenge/xbox-360-130580       Xbox 360    7.0   \n",
      "135077           /games/zumas-revenge/pc-27072             PC    8.0   \n",
      "135078    /games/zumas-revenge/xbox-360-130580       Xbox 360    7.0   \n",
      "135079           /games/zumas-revenge/pc-27072             PC    8.0   \n",
      "135080    /games/zumas-revenge/xbox-360-130580       Xbox 360    7.0   \n",
      "135081           /games/zumas-revenge/pc-27072             PC    8.0   \n",
      "135082    /games/zumas-revenge/xbox-360-130580       Xbox 360    7.0   \n",
      "135083           /games/zumas-revenge/pc-27072             PC    8.0   \n",
      "135084    /games/zumas-revenge/xbox-360-130580       Xbox 360    7.0   \n",
      "135085           /games/zumas-revenge/pc-27072             PC    8.0   \n",
      "135086    /games/zumas-revenge/xbox-360-130580       Xbox 360    7.0   \n",
      "135087                /games/realmyst/pc-15612             PC    6.5   \n",
      "135088                /games/realmyst/pc-15612             PC    6.5   \n",
      "135089                /games/realmyst/pc-15612             PC    6.5   \n",
      "135090                /games/realmyst/pc-15612             PC    6.5   \n",
      "135091                /games/realmyst/pc-15612             PC    6.5   \n",
      "135092                /games/realmyst/pc-15612             PC    6.5   \n",
      "135093                /games/realmyst/pc-15612             PC    6.5   \n",
      "135094                /games/realmyst/pc-15612             PC    6.5   \n",
      "135095                /games/realmyst/pc-15612             PC    6.5   \n",
      "\n",
      "                     genre editors_choice  release_year  release_month  \\\n",
      "0                   Action              N          2012             10   \n",
      "1                   Action              N          2012             10   \n",
      "2                   Action              N          2013              1   \n",
      "3                   Action              N          2012             10   \n",
      "4                   Action              N          2012             10   \n",
      "5                   Action              N          2013              1   \n",
      "6                   Puzzle              N          2008              9   \n",
      "7                   Puzzle              N          2008              9   \n",
      "8                   Puzzle              N          2008              9   \n",
      "9                   Puzzle              N          2008              9   \n",
      "10                  Puzzle              N          2008              9   \n",
      "11                  Puzzle              N          2008              9   \n",
      "12                  Puzzle              N          2008              9   \n",
      "13                  Puzzle              N          2008              9   \n",
      "14      Shooter, Adventure              N          2016              7   \n",
      "15      Shooter, Adventure              N          2016              7   \n",
      "16      Shooter, Adventure              N          2016              7   \n",
      "17      Shooter, Adventure              N          2016              7   \n",
      "18      Shooter, Adventure              N          2016              7   \n",
      "19      Shooter, Adventure              N          2016              7   \n",
      "20      Shooter, Adventure              N          2016              7   \n",
      "21      Shooter, Adventure              N          2016              7   \n",
      "22      Shooter, Adventure              N          2016              7   \n",
      "23      Shooter, Adventure              N          2016              7   \n",
      "24      Shooter, Adventure              N          2016              7   \n",
      "25      Shooter, Adventure              N          2016              7   \n",
      "26      Shooter, Adventure              N          2016              7   \n",
      "27      Shooter, Adventure              N          2016              7   \n",
      "28      Shooter, Adventure              N          2016              7   \n",
      "29      Shooter, Adventure              N          2016              7   \n",
      "...                    ...            ...           ...            ...   \n",
      "135066              Action              N          2009              4   \n",
      "135067            Strategy              N          2009              6   \n",
      "135068              Puzzle              N          2006              1   \n",
      "135069              Puzzle              N          2006              1   \n",
      "135070              Puzzle              N          2006              1   \n",
      "135071              Puzzle              N          2006              1   \n",
      "135072              Puzzle              N          2006              1   \n",
      "135073              Puzzle              N          2009              9   \n",
      "135074              Puzzle              N          2012              7   \n",
      "135075              Puzzle              N          2009              9   \n",
      "135076              Puzzle              N          2012              7   \n",
      "135077              Puzzle              N          2009              9   \n",
      "135078              Puzzle              N          2012              7   \n",
      "135079              Puzzle              N          2009              9   \n",
      "135080              Puzzle              N          2012              7   \n",
      "135081              Puzzle              N          2009              9   \n",
      "135082              Puzzle              N          2012              7   \n",
      "135083              Puzzle              N          2009              9   \n",
      "135084              Puzzle              N          2012              7   \n",
      "135085              Puzzle              N          2009              9   \n",
      "135086              Puzzle              N          2012              7   \n",
      "135087           Adventure              N          2000             11   \n",
      "135088           Adventure              N          2000             11   \n",
      "135089           Adventure              N          2000             11   \n",
      "135090           Adventure              N          2000             11   \n",
      "135091           Adventure              N          2000             11   \n",
      "135092           Adventure              N          2000             11   \n",
      "135093           Adventure              N          2000             11   \n",
      "135094           Adventure              N          2000             11   \n",
      "135095           Adventure              N          2000             11   \n",
      "\n",
      "        release_day  \n",
      "0                16  \n",
      "1                16  \n",
      "2                14  \n",
      "3                16  \n",
      "4                16  \n",
      "5                14  \n",
      "6                19  \n",
      "7                19  \n",
      "8                19  \n",
      "9                19  \n",
      "10               19  \n",
      "11               19  \n",
      "12               19  \n",
      "13               19  \n",
      "14               13  \n",
      "15               13  \n",
      "16               13  \n",
      "17               13  \n",
      "18               13  \n",
      "19               13  \n",
      "20               13  \n",
      "21               13  \n",
      "22               13  \n",
      "23               13  \n",
      "24               13  \n",
      "25               13  \n",
      "26               13  \n",
      "27               13  \n",
      "28               13  \n",
      "29               13  \n",
      "...             ...  \n",
      "135066           24  \n",
      "135067           25  \n",
      "135068            4  \n",
      "135069            4  \n",
      "135070            4  \n",
      "135071            4  \n",
      "135072            4  \n",
      "135073           15  \n",
      "135074           11  \n",
      "135075           15  \n",
      "135076           11  \n",
      "135077           15  \n",
      "135078           11  \n",
      "135079           15  \n",
      "135080           11  \n",
      "135081           15  \n",
      "135082           11  \n",
      "135083           15  \n",
      "135084           11  \n",
      "135085           15  \n",
      "135086           11  \n",
      "135087           13  \n",
      "135088           13  \n",
      "135089           13  \n",
      "135090           13  \n",
      "135091           13  \n",
      "135092           13  \n",
      "135093           13  \n",
      "135094           13  \n",
      "135095           13  \n",
      "\n",
      "[135096 rows x 14 columns]\n"
     ]
    }
   ],
   "source": [
    "data = pd.read_csv('data/complete_dataset.csv', header = 0, index_col = None)\n",
    "print(data)"
   ]
  },
  {
   "cell_type": "code",
   "execution_count": 3,
   "metadata": {
    "collapsed": false
   },
   "outputs": [],
   "source": [
    "data2 = pd.DataFrame.from_dict({'Name' : data['Name'], 'Id' : data['0']})"
   ]
  },
  {
   "cell_type": "code",
   "execution_count": 29,
   "metadata": {
    "collapsed": false
   },
   "outputs": [],
   "source": [
    "games = sorted(list(set(data2['Name'])))\n",
    "users = sorted(list(set(data2['Id'])))"
   ]
  },
  {
   "cell_type": "code",
   "execution_count": 30,
   "metadata": {
    "collapsed": false
   },
   "outputs": [
    {
     "name": "stdout",
     "output_type": "stream",
     "text": [
      "135096\n"
     ]
    }
   ],
   "source": [
    "user_games = [[0 for x in range(len(games))] for y in range(len(users))]\n",
    "lastUser = None\n",
    "lastIndex = -1\n",
    "print(len(data2['Name']))\n",
    "for i in range(len(data2['Name'])):\n",
    "    game = data2['Name'][i]\n",
    "    user = data2['Id'][i]\n",
    "    if user != lastUser:\n",
    "        lastIndex = users.index(user)\n",
    "        lastUser = user\n",
    "    user_games[lastIndex][games.index(game)] = 1"
   ]
  },
  {
   "cell_type": "code",
   "execution_count": 31,
   "metadata": {
    "collapsed": false
   },
   "outputs": [
    {
     "name": "stdout",
     "output_type": "stream",
     "text": [
      "787\n",
      "9562\n"
     ]
    }
   ],
   "source": [
    "print(len(games))\n",
    "print(len(users))"
   ]
  },
  {
   "cell_type": "code",
   "execution_count": 32,
   "metadata": {
    "collapsed": true
   },
   "outputs": [],
   "source": [
    "encode = dict()\n",
    "ids = []\n",
    "for game in games:\n",
    "    encode[game] = []\n",
    "\n",
    "for i in range(len(users)):\n",
    "    ids.append(users[i])\n",
    "    \n",
    "    for j in range(len(games)):\n",
    "        encode[games[j]].append(user_games[i][j])"
   ]
  },
  {
   "cell_type": "code",
   "execution_count": 33,
   "metadata": {
    "collapsed": true
   },
   "outputs": [],
   "source": [
    "encodedData = pd.DataFrame.from_dict(encode)\n",
    "encodedData.insert(0, 'Id', ids)"
   ]
  },
  {
   "cell_type": "code",
   "execution_count": 34,
   "metadata": {
    "collapsed": false
   },
   "outputs": [
    {
     "name": "stdout",
     "output_type": "stream",
     "text": [
      "             Id  007 Legends  4 Elements  7 Days to Die  A Bird Story  \\\n",
      "0          5250            0           0              0             0   \n",
      "1         76767            0           0              0             0   \n",
      "2         86540            0           0              0             0   \n",
      "3        103360            0           0              0             0   \n",
      "4        144736            0           0              0             0   \n",
      "5        181212            0           0              0             0   \n",
      "6        229911            0           0              0             0   \n",
      "7        298950            0           0              1             0   \n",
      "8        299153            0           0              0             0   \n",
      "9        381543            0           0              0             0   \n",
      "10       547685            0           0              0             0   \n",
      "11       554278            0           0              0             0   \n",
      "12       561758            0           0              0             0   \n",
      "13       577614            0           0              0             0   \n",
      "14       604988            0           0              0             0   \n",
      "15       622362            0           0              0             0   \n",
      "16       635733            0           0              0             0   \n",
      "17       683019            0           0              0             0   \n",
      "18       714122            0           0              0             0   \n",
      "19       748719            0           0              0             0   \n",
      "20       835015            0           0              0             0   \n",
      "21       861238            0           0              0             0   \n",
      "22       871990            0           0              0             0   \n",
      "23       937567            0           0              0             0   \n",
      "24       948368            0           0              0             0   \n",
      "25       975449            0           0              0             0   \n",
      "26       976129            0           0              0             0   \n",
      "27       983600            0           0              0             0   \n",
      "28       994489            0           0              0             0   \n",
      "29      1006880            0           0              0             0   \n",
      "...         ...          ...         ...            ...           ...   \n",
      "9532  308468736            0           0              0             0   \n",
      "9533  308563852            0           0              0             0   \n",
      "9534  308615060            0           0              0             0   \n",
      "9535  308638385            0           0              0             0   \n",
      "9536  308691324            0           0              0             0   \n",
      "9537  308692673            0           0              0             0   \n",
      "9538  308695132            0           0              0             0   \n",
      "9539  308760273            0           0              0             0   \n",
      "9540  308770654            0           0              0             0   \n",
      "9541  308819212            0           0              0             0   \n",
      "9542  308851352            0           0              0             0   \n",
      "9543  308851621            0           0              0             0   \n",
      "9544  308880998            0           0              0             0   \n",
      "9545  308925132            0           0              0             0   \n",
      "9546  308940605            0           0              0             0   \n",
      "9547  308954355            0           0              0             0   \n",
      "9548  309038666            0           0              0             0   \n",
      "9549  309052991            0           0              0             0   \n",
      "9550  309058572            0           0              0             0   \n",
      "9551  309107542            0           0              0             0   \n",
      "9552  309138595            0           0              0             0   \n",
      "9553  309167186            0           0              0             0   \n",
      "9554  309213952            0           0              0             0   \n",
      "9555  309216884            0           0              0             0   \n",
      "9556  309228590            0           0              0             0   \n",
      "9557  309262440            0           0              0             0   \n",
      "9558  309404240            0           0              0             0   \n",
      "9559  309434439            0           0              0             0   \n",
      "9560  309824202            0           0              0             0   \n",
      "9561  309903146            0           0              0             0   \n",
      "\n",
      "      A Valley Without Wind  A Vampyre Story  Abyss Odyssey  Ace of Spades  \\\n",
      "0                         0                0              0              0   \n",
      "1                         0                0              0              0   \n",
      "2                         0                0              0              0   \n",
      "3                         0                0              0              0   \n",
      "4                         0                0              0              0   \n",
      "5                         0                0              0              0   \n",
      "6                         0                0              0              0   \n",
      "7                         0                0              0              0   \n",
      "8                         0                0              0              0   \n",
      "9                         0                0              0              0   \n",
      "10                        0                0              0              0   \n",
      "11                        0                0              0              0   \n",
      "12                        0                0              0              0   \n",
      "13                        0                0              0              0   \n",
      "14                        0                0              0              0   \n",
      "15                        0                0              0              0   \n",
      "16                        0                0              0              0   \n",
      "17                        0                0              0              0   \n",
      "18                        0                0              0              0   \n",
      "19                        0                0              0              0   \n",
      "20                        0                0              0              0   \n",
      "21                        0                0              0              0   \n",
      "22                        0                0              0              0   \n",
      "23                        0                0              0              0   \n",
      "24                        0                0              0              0   \n",
      "25                        1                0              0              0   \n",
      "26                        0                0              0              0   \n",
      "27                        0                0              0              0   \n",
      "28                        0                0              0              0   \n",
      "29                        0                0              0              0   \n",
      "...                     ...              ...            ...            ...   \n",
      "9532                      0                0              0              0   \n",
      "9533                      0                0              0              0   \n",
      "9534                      0                0              0              0   \n",
      "9535                      0                0              0              0   \n",
      "9536                      0                0              0              0   \n",
      "9537                      0                0              0              0   \n",
      "9538                      0                0              0              0   \n",
      "9539                      0                0              0              0   \n",
      "9540                      0                0              0              0   \n",
      "9541                      0                0              0              0   \n",
      "9542                      0                0              0              0   \n",
      "9543                      0                0              0              0   \n",
      "9544                      0                0              0              0   \n",
      "9545                      0                0              0              0   \n",
      "9546                      0                0              0              0   \n",
      "9547                      0                0              0              0   \n",
      "9548                      0                0              0              0   \n",
      "9549                      0                0              0              0   \n",
      "9550                      0                0              0              0   \n",
      "9551                      0                0              0              0   \n",
      "9552                      0                0              0              0   \n",
      "9553                      0                0              0              0   \n",
      "9554                      0                0              0              0   \n",
      "9555                      0                0              0              0   \n",
      "9556                      0                0              0              0   \n",
      "9557                      0                0              0              0   \n",
      "9558                      0                0              0              0   \n",
      "9559                      0                0              0              0   \n",
      "9560                      0                0              0              0   \n",
      "9561                      0                0              0              0   \n",
      "\n",
      "      Achron    ...     Xpand Rally  Year Walk  Yosumin!  Zack Zero  \\\n",
      "0          0    ...               0          0         0          0   \n",
      "1          0    ...               0          0         0          0   \n",
      "2          0    ...               0          0         0          0   \n",
      "3          0    ...               0          0         0          0   \n",
      "4          0    ...               0          0         0          0   \n",
      "5          0    ...               0          0         0          0   \n",
      "6          0    ...               0          0         0          0   \n",
      "7          0    ...               0          0         0          0   \n",
      "8          0    ...               0          0         0          0   \n",
      "9          0    ...               0          0         0          0   \n",
      "10         0    ...               0          0         0          0   \n",
      "11         0    ...               0          0         0          0   \n",
      "12         0    ...               0          0         0          0   \n",
      "13         0    ...               0          0         0          0   \n",
      "14         0    ...               0          0         0          0   \n",
      "15         0    ...               0          0         0          0   \n",
      "16         0    ...               0          0         0          0   \n",
      "17         0    ...               0          0         0          0   \n",
      "18         0    ...               0          0         0          0   \n",
      "19         0    ...               0          0         0          0   \n",
      "20         0    ...               0          0         0          0   \n",
      "21         0    ...               0          0         0          0   \n",
      "22         0    ...               0          0         0          0   \n",
      "23         0    ...               0          0         0          0   \n",
      "24         0    ...               0          0         0          0   \n",
      "25         0    ...               0          0         0          0   \n",
      "26         0    ...               0          0         0          0   \n",
      "27         0    ...               0          0         0          0   \n",
      "28         0    ...               0          0         0          0   \n",
      "29         0    ...               0          0         0          0   \n",
      "...      ...    ...             ...        ...       ...        ...   \n",
      "9532       0    ...               0          0         0          0   \n",
      "9533       0    ...               0          0         0          0   \n",
      "9534       0    ...               0          0         0          0   \n",
      "9535       0    ...               0          0         0          0   \n",
      "9536       0    ...               0          0         0          0   \n",
      "9537       0    ...               0          0         0          0   \n",
      "9538       0    ...               0          0         0          0   \n",
      "9539       0    ...               0          0         0          0   \n",
      "9540       0    ...               0          0         0          0   \n",
      "9541       0    ...               0          0         0          0   \n",
      "9542       0    ...               0          0         0          0   \n",
      "9543       0    ...               0          0         0          0   \n",
      "9544       0    ...               0          0         0          0   \n",
      "9545       0    ...               0          0         0          0   \n",
      "9546       0    ...               0          0         0          0   \n",
      "9547       0    ...               0          0         0          0   \n",
      "9548       0    ...               0          0         0          0   \n",
      "9549       0    ...               0          0         0          0   \n",
      "9550       0    ...               0          0         0          0   \n",
      "9551       0    ...               0          0         0          0   \n",
      "9552       0    ...               0          0         0          0   \n",
      "9553       0    ...               0          0         0          0   \n",
      "9554       0    ...               0          0         0          0   \n",
      "9555       0    ...               0          0         0          0   \n",
      "9556       0    ...               0          0         0          0   \n",
      "9557       0    ...               0          0         0          0   \n",
      "9558       0    ...               0          0         0          0   \n",
      "9559       0    ...               0          0         0          0   \n",
      "9560       0    ...               0          0         0          0   \n",
      "9561       0    ...               0          0         0          0   \n",
      "\n",
      "      Zen Bound 2  Zeno Clash  Zooloretto  Zuma Deluxe  Zuma's Revenge  \\\n",
      "0               0           0           0            0               0   \n",
      "1               0           0           0            0               0   \n",
      "2               0           0           0            0               0   \n",
      "3               0           0           0            0               0   \n",
      "4               0           0           0            0               0   \n",
      "5               0           0           0            0               0   \n",
      "6               0           0           0            0               0   \n",
      "7               0           0           0            0               0   \n",
      "8               0           0           0            0               0   \n",
      "9               0           0           0            0               0   \n",
      "10              0           0           0            0               0   \n",
      "11              0           0           0            0               0   \n",
      "12              0           0           0            0               0   \n",
      "13              0           0           0            0               0   \n",
      "14              0           0           0            0               0   \n",
      "15              0           0           0            0               0   \n",
      "16              0           0           0            0               0   \n",
      "17              0           0           0            0               0   \n",
      "18              0           0           0            0               0   \n",
      "19              0           0           0            0               0   \n",
      "20              0           0           0            0               0   \n",
      "21              0           0           0            0               0   \n",
      "22              0           0           0            0               0   \n",
      "23              0           0           0            0               0   \n",
      "24              0           0           0            0               0   \n",
      "25              1           1           0            0               0   \n",
      "26              0           0           0            0               0   \n",
      "27              0           0           0            0               0   \n",
      "28              0           0           0            0               0   \n",
      "29              0           0           0            0               0   \n",
      "...           ...         ...         ...          ...             ...   \n",
      "9532            0           0           0            0               0   \n",
      "9533            0           0           0            0               0   \n",
      "9534            0           0           0            0               0   \n",
      "9535            0           0           0            0               0   \n",
      "9536            0           0           0            0               0   \n",
      "9537            0           0           0            0               0   \n",
      "9538            0           0           0            0               0   \n",
      "9539            0           0           0            0               0   \n",
      "9540            0           0           0            0               0   \n",
      "9541            0           0           0            0               0   \n",
      "9542            0           0           0            0               0   \n",
      "9543            0           0           0            0               0   \n",
      "9544            0           0           0            0               0   \n",
      "9545            0           0           0            0               0   \n",
      "9546            0           0           0            0               0   \n",
      "9547            0           0           0            0               0   \n",
      "9548            0           0           0            0               0   \n",
      "9549            0           0           0            0               0   \n",
      "9550            0           0           0            0               0   \n",
      "9551            0           0           0            0               0   \n",
      "9552            0           0           0            0               0   \n",
      "9553            0           0           0            0               0   \n",
      "9554            0           0           0            0               0   \n",
      "9555            0           0           0            0               0   \n",
      "9556            0           0           0            0               0   \n",
      "9557            0           0           0            0               0   \n",
      "9558            0           0           0            0               0   \n",
      "9559            0           0           0            0               0   \n",
      "9560            0           0           0            0               0   \n",
      "9561            0           0           0            0               0   \n",
      "\n",
      "      realMyst  \n",
      "0            0  \n",
      "1            0  \n",
      "2            0  \n",
      "3            0  \n",
      "4            0  \n",
      "5            0  \n",
      "6            0  \n",
      "7            0  \n",
      "8            0  \n",
      "9            0  \n",
      "10           0  \n",
      "11           0  \n",
      "12           0  \n",
      "13           0  \n",
      "14           0  \n",
      "15           0  \n",
      "16           0  \n",
      "17           0  \n",
      "18           0  \n",
      "19           0  \n",
      "20           0  \n",
      "21           0  \n",
      "22           0  \n",
      "23           0  \n",
      "24           0  \n",
      "25           0  \n",
      "26           0  \n",
      "27           0  \n",
      "28           0  \n",
      "29           0  \n",
      "...        ...  \n",
      "9532         0  \n",
      "9533         0  \n",
      "9534         0  \n",
      "9535         0  \n",
      "9536         0  \n",
      "9537         0  \n",
      "9538         0  \n",
      "9539         0  \n",
      "9540         0  \n",
      "9541         0  \n",
      "9542         0  \n",
      "9543         0  \n",
      "9544         0  \n",
      "9545         0  \n",
      "9546         0  \n",
      "9547         0  \n",
      "9548         0  \n",
      "9549         0  \n",
      "9550         0  \n",
      "9551         0  \n",
      "9552         0  \n",
      "9553         0  \n",
      "9554         0  \n",
      "9555         0  \n",
      "9556         0  \n",
      "9557         0  \n",
      "9558         0  \n",
      "9559         0  \n",
      "9560         0  \n",
      "9561         0  \n",
      "\n",
      "[9562 rows x 788 columns]\n"
     ]
    }
   ],
   "source": [
    "print(encodedData)"
   ]
  },
  {
   "cell_type": "code",
   "execution_count": 36,
   "metadata": {
    "collapsed": false
   },
   "outputs": [],
   "source": [
    "encodedData.to_csv('data/encodedData.csv')"
   ]
  },
  {
   "cell_type": "code",
   "execution_count": 12,
   "metadata": {
    "collapsed": true
   },
   "outputs": [],
   "source": [
    "from sklearn.neighbors import NearestNeighbors"
   ]
  },
  {
   "cell_type": "code",
   "execution_count": 37,
   "metadata": {
    "collapsed": false
   },
   "outputs": [],
   "source": [
    "encodedData = pd.DataFrame.from_dict(encode)"
   ]
  },
  {
   "cell_type": "code",
   "execution_count": 38,
   "metadata": {
    "collapsed": false
   },
   "outputs": [
    {
     "name": "stdout",
     "output_type": "stream",
     "text": [
      "007 Legends                       0\n",
      "4 Elements                        0\n",
      "7 Days to Die                     0\n",
      "A Bird Story                      0\n",
      "A Valley Without Wind             0\n",
      "A Vampyre Story                   0\n",
      "Abyss Odyssey                     0\n",
      "Ace of Spades                     0\n",
      "Achron                            0\n",
      "Advent Rising                     0\n",
      "Age of Booty                      0\n",
      "Age of Empires Online             0\n",
      "Age of Wonders                    0\n",
      "Age of Wonders III                0\n",
      "Age of Wushu                      0\n",
      "Aion                              0\n",
      "AirBuccaneers                     0\n",
      "Alan Wake                         0\n",
      "Alan Wake's American Nightmare    0\n",
      "Alien Breed Impact                0\n",
      "Alien Zombie Megadeath            0\n",
      "Aliens vs. Predator               0\n",
      "Alone in the Dark                 0\n",
      "Alpha Protocol                    0\n",
      "America's Army 3                  0\n",
      "American Conquest                 0\n",
      "Among the Sleep                   0\n",
      "Anachronox                        0\n",
      "Ancient Space                     0\n",
      "And Yet It Moves                  0\n",
      "                                 ..\n",
      "Waves                             0\n",
      "Way of the Samurai 4              0\n",
      "Where is my Heart?                0\n",
      "Wings of Prey                     0\n",
      "Wolfenstein                       0\n",
      "World War II Panzer Claws         0\n",
      "World in Conflict                 0\n",
      "World of Goo                      0\n",
      "Worldwide Soccer Manager 2009     0\n",
      "Worms                             0\n",
      "Worms Armageddon                  0\n",
      "Worms Blast                       0\n",
      "Worms Crazy Golf                  0\n",
      "Worms Reloaded                    0\n",
      "Worms Revolution                  0\n",
      "X Rebirth                         0\n",
      "X-Blades                          0\n",
      "Xenonauts                         0\n",
      "Xeodrifter                        0\n",
      "Xotic                             0\n",
      "Xpand Rally                       0\n",
      "Year Walk                         0\n",
      "Yosumin!                          0\n",
      "Zack Zero                         0\n",
      "Zen Bound 2                       0\n",
      "Zeno Clash                        0\n",
      "Zooloretto                        0\n",
      "Zuma Deluxe                       0\n",
      "Zuma's Revenge                    0\n",
      "realMyst                          0\n",
      "Name: 0, dtype: int64\n"
     ]
    }
   ],
   "source": [
    "print(encodedData.iloc[0][:])"
   ]
  },
  {
   "cell_type": "code",
   "execution_count": 41,
   "metadata": {
    "collapsed": false
   },
   "outputs": [
    {
     "data": {
      "text/plain": [
       "NearestNeighbors(algorithm='auto', leaf_size=30, metric='minkowski',\n",
       "         metric_params=None, n_jobs=1, n_neighbors=50, p=2, radius=1.0)"
      ]
     },
     "execution_count": 41,
     "metadata": {},
     "output_type": "execute_result"
    }
   ],
   "source": [
    "knn = NearestNeighbors(50)\n",
    "knn.fit(encodedData)"
   ]
  },
  {
   "cell_type": "code",
   "execution_count": 42,
   "metadata": {
    "collapsed": false
   },
   "outputs": [
    {
     "name": "stdout",
     "output_type": "stream",
     "text": [
      "[   0   52  279  105  440   49  306 1847 1008 5456    6  348  161  411  122\n",
      "   27   31   23   73   94  119  121   15  155  199  205  242  541   43  168\n",
      "  303  383  311   70   95  125    5  130   75   90   51    8  237   22  285\n",
      "   72  363   24   53  147]\n"
     ]
    },
    {
     "name": "stderr",
     "output_type": "stream",
     "text": [
      "C:\\ProgramData\\Anaconda2\\lib\\site-packages\\sklearn\\utils\\validation.py:395: DeprecationWarning: Passing 1d arrays as data is deprecated in 0.17 and will raise ValueError in 0.19. Reshape your data either using X.reshape(-1, 1) if your data has a single feature or X.reshape(1, -1) if it contains a single sample.\n",
      "  DeprecationWarning)\n"
     ]
    }
   ],
   "source": [
    "print(knn.kneighbors(encodedData.iloc[0][:])[1][0])"
   ]
  },
  {
   "cell_type": "code",
   "execution_count": 43,
   "metadata": {
    "collapsed": false
   },
   "outputs": [
    {
     "name": "stdout",
     "output_type": "stream",
     "text": [
      "[491 557 480 555 422 476 523 539 386 419 525 474 496 520 533 538 360 385\n",
      " 405 418 430 526 460 468 489 493 499 510 524 528 534 535 250 449 606 361\n",
      " 393 404 406 414 425 427 441 412 454 455 461 482 484 464]\n"
     ]
    },
    {
     "name": "stderr",
     "output_type": "stream",
     "text": [
      "C:\\ProgramData\\Anaconda2\\lib\\site-packages\\sklearn\\utils\\validation.py:395: DeprecationWarning: Passing 1d arrays as data is deprecated in 0.17 and will raise ValueError in 0.19. Reshape your data either using X.reshape(-1, 1) if your data has a single feature or X.reshape(1, -1) if it contains a single sample.\n",
      "  DeprecationWarning)\n"
     ]
    }
   ],
   "source": [
    "print(knn.kneighbors(encodedData.iloc[784][:])[1][0])"
   ]
  },
  {
   "cell_type": "code",
   "execution_count": 44,
   "metadata": {
    "collapsed": false
   },
   "outputs": [
    {
     "name": "stdout",
     "output_type": "stream",
     "text": [
      "[3954 5380 2722 3761 7686 3995 4192 5807  941 2990 3575 3625 4097 4318 4794\n",
      " 4990  779 1666 2360 2767 3186 3171 3355 3587 4035 4078 4605 4747 4206 5381\n",
      " 3688 5134 3011  909 1209 1225 2279 2327 2529 5812 3054 3219 3139 3159  545\n",
      " 3394 1605 3652 4025 3843]\n"
     ]
    },
    {
     "name": "stderr",
     "output_type": "stream",
     "text": [
      "C:\\ProgramData\\Anaconda2\\lib\\site-packages\\sklearn\\utils\\validation.py:395: DeprecationWarning: Passing 1d arrays as data is deprecated in 0.17 and will raise ValueError in 0.19. Reshape your data either using X.reshape(-1, 1) if your data has a single feature or X.reshape(1, -1) if it contains a single sample.\n",
      "  DeprecationWarning)\n"
     ]
    }
   ],
   "source": [
    "print(knn.kneighbors(encodedData.iloc[3954][:])[1][0])"
   ]
  },
  {
   "cell_type": "code",
   "execution_count": 45,
   "metadata": {
    "collapsed": false
   },
   "outputs": [
    {
     "name": "stderr",
     "output_type": "stream",
     "text": [
      "C:\\ProgramData\\Anaconda2\\lib\\site-packages\\sklearn\\utils\\validation.py:395: DeprecationWarning: Passing 1d arrays as data is deprecated in 0.17 and will raise ValueError in 0.19. Reshape your data either using X.reshape(-1, 1) if your data has a single feature or X.reshape(1, -1) if it contains a single sample.\n",
      "  DeprecationWarning)\n"
     ]
    }
   ],
   "source": [
    "indexes = knn.kneighbors(encodedData.iloc[0][:])[1][0]\n",
    "total = [0] * len(games)\n",
    "for i in indexes:\n",
    "    cur = encodedData.iloc[i][:]\n",
    "    for x in range(len(cur)):\n",
    "        if cur[x] == 1:\n",
    "            total[x] += 1"
   ]
  },
  {
   "cell_type": "code",
   "execution_count": 49,
   "metadata": {
    "collapsed": false
   },
   "outputs": [
    {
     "name": "stdout",
     "output_type": "stream",
     "text": [
      "[(1, 'Antichamber'), (1, 'Audiosurf'), (1, 'BioShock Infinite'), (1, 'Borderlands 2'), (49, 'Counter-Strike'), (1, 'DC Universe Online'), (49, 'Day of Defeat'), (8, 'Dota 2'), (1, 'Fallout 4'), (47, 'Half-Life'), (45, 'Half-Life 2'), (1, 'Kerbal Space Program'), (2, 'Left 4 Dead'), (2, 'Left 4 Dead 2'), (1, 'PlanetSide 2'), (18, 'Portal'), (5, 'Portal 2'), (18, 'Team Fortress 2'), (1, 'The Stanley Parable'), (1, 'Worms Reloaded')]\n"
     ]
    }
   ],
   "source": [
    "recommend = []\n",
    "for i in range(len(total)):\n",
    "    if total[i] > 0:\n",
    "        recommend.append((total[i], games[i]))\n",
    "print(recommend)"
   ]
  },
  {
   "cell_type": "code",
   "execution_count": 54,
   "metadata": {
    "collapsed": false
   },
   "outputs": [
    {
     "name": "stdout",
     "output_type": "stream",
     "text": [
      "[(49, 'Day of Defeat'), (49, 'Counter-Strike'), (47, 'Half-Life'), (45, 'Half-Life 2'), (18, 'Team Fortress 2'), (18, 'Portal'), (8, 'Dota 2'), (5, 'Portal 2'), (2, 'Left 4 Dead 2'), (2, 'Left 4 Dead'), (1, 'Worms Reloaded'), (1, 'The Stanley Parable'), (1, 'PlanetSide 2'), (1, 'Kerbal Space Program'), (1, 'Fallout 4'), (1, 'DC Universe Online'), (1, 'Borderlands 2'), (1, 'BioShock Infinite'), (1, 'Audiosurf'), (1, 'Antichamber')]\n"
     ]
    }
   ],
   "source": [
    "recommend = sorted(recommend, key=(lambda x : -x[0]))\n",
    "print(recommend)"
   ]
  },
  {
   "cell_type": "code",
   "execution_count": 55,
   "metadata": {
    "collapsed": false
   },
   "outputs": [
    {
     "name": "stdout",
     "output_type": "stream",
     "text": [
      "['Day of Defeat', 'Counter-Strike', 'Half-Life', 'Half-Life 2', 'Team Fortress 2', 'Portal', 'Dota 2', 'Portal 2', 'Left 4 Dead 2', 'Left 4 Dead', 'Worms Reloaded', 'The Stanley Parable', 'PlanetSide 2', 'Kerbal Space Program', 'Fallout 4', 'DC Universe Online', 'Borderlands 2', 'BioShock Infinite', 'Audiosurf', 'Antichamber']\n"
     ]
    }
   ],
   "source": [
    "recommend = map(lambda x : x[1], recommend)\n",
    "print(recommend)"
   ]
  },
  {
   "cell_type": "code",
   "execution_count": 57,
   "metadata": {
    "collapsed": false
   },
   "outputs": [
    {
     "name": "stdout",
     "output_type": "stream",
     "text": [
      "Counter-Strike\n",
      "Day of Defeat\n",
      "Dota 2\n",
      "Half-Life\n",
      "Half-Life 2\n",
      "Portal\n",
      "Portal 2\n",
      "Team Fortress 2\n",
      "['Left 4 Dead 2', 'Left 4 Dead', 'Worms Reloaded', 'The Stanley Parable', 'PlanetSide 2', 'Kerbal Space Program', 'Fallout 4', 'DC Universe Online', 'Borderlands 2', 'BioShock Infinite', 'Audiosurf', 'Antichamber']\n"
     ]
    }
   ],
   "source": [
    "for x in range(len(encodedData.iloc[0][:])):\n",
    "    if encodedData.iloc[0][:][x] == 1:\n",
    "        if games[x] in recommend:\n",
    "            print(games[x])\n",
    "            del recommend[recommend.index(games[x])]\n",
    "print(recommend)"
   ]
  },
  {
   "cell_type": "code",
   "execution_count": 61,
   "metadata": {
    "collapsed": false
   },
   "outputs": [],
   "source": [
    "def recommender(index):\n",
    "    indexes = knn.kneighbors(encodedData.iloc[index][:])[1][0]\n",
    "    total = [0] * len(games)\n",
    "    for i in indexes:\n",
    "        cur = encodedData.iloc[i][:]\n",
    "        for x in range(len(cur)):\n",
    "            if cur[x] == 1:\n",
    "                total[x] += 1\n",
    "    recommend = []\n",
    "    for i in range(len(total)):\n",
    "        if total[i] > 0:\n",
    "            recommend.append((total[i], games[i]))\n",
    "    print(recommend)\n",
    "    recommend = sorted(recommend, key=(lambda x : -x[0]))\n",
    "    recommend = map(lambda x : x[1], recommend)\n",
    "    for x in range(len(encodedData.iloc[0][:])):\n",
    "        if encodedData.iloc[0][:][x] == 1:\n",
    "            if games[x] in recommend:\n",
    "                print(games[x])\n",
    "                del recommend[recommend.index(games[x])]\n",
    "    return recommend"
   ]
  },
  {
   "cell_type": "code",
   "execution_count": 62,
   "metadata": {
    "collapsed": false
   },
   "outputs": [
    {
     "name": "stderr",
     "output_type": "stream",
     "text": [
      "C:\\ProgramData\\Anaconda2\\lib\\site-packages\\sklearn\\utils\\validation.py:395: DeprecationWarning: Passing 1d arrays as data is deprecated in 0.17 and will raise ValueError in 0.19. Reshape your data either using X.reshape(-1, 1) if your data has a single feature or X.reshape(1, -1) if it contains a single sample.\n",
      "  DeprecationWarning)\n"
     ]
    },
    {
     "name": "stdout",
     "output_type": "stream",
     "text": [
      "[(1, 'Banished'), (50, 'Counter-Strike'), (50, 'Day of Defeat'), (50, 'Half-Life'), (1, 'Portal 2'), (1, 'The Stanley Parable'), (1, 'Thief'), (1, 'Worms Armageddon')]\n",
      "Counter-Strike\n",
      "Day of Defeat\n",
      "Half-Life\n",
      "Portal 2\n"
     ]
    },
    {
     "data": {
      "text/plain": [
       "['Banished', 'The Stanley Parable', 'Thief', 'Worms Armageddon']"
      ]
     },
     "execution_count": 62,
     "metadata": {},
     "output_type": "execute_result"
    }
   ],
   "source": [
    "recommender(1)"
   ]
  },
  {
   "cell_type": "code",
   "execution_count": 63,
   "metadata": {
    "collapsed": false
   },
   "outputs": [
    {
     "name": "stderr",
     "output_type": "stream",
     "text": [
      "C:\\ProgramData\\Anaconda2\\lib\\site-packages\\sklearn\\utils\\validation.py:395: DeprecationWarning: Passing 1d arrays as data is deprecated in 0.17 and will raise ValueError in 0.19. Reshape your data either using X.reshape(-1, 1) if your data has a single feature or X.reshape(1, -1) if it contains a single sample.\n",
      "  DeprecationWarning)\n"
     ]
    },
    {
     "name": "stdout",
     "output_type": "stream",
     "text": [
      "[(1, 'Alan Wake'), (1, \"Alan Wake's American Nightmare\"), (1, 'Aliens vs. Predator'), (1, 'Antichamber'), (2, 'Audiosurf'), (1, 'Borderlands 2'), (50, 'Counter-Strike'), (50, 'Day of Defeat'), (2, 'Dota 2'), (1, 'Endless Space'), (1, 'Far Cry 3'), (50, 'Half-Life'), (48, 'Half-Life 2'), (1, 'Killer is Dead'), (1, 'L.A. Noire'), (7, 'Left 4 Dead'), (10, 'Left 4 Dead 2'), (1, 'Max Payne 3'), (1, 'Overlord'), (1, 'Overlord II'), (1, 'Poker Night at the Inventory'), (18, 'Portal'), (10, 'Portal 2'), (1, 'Puzzle Agent'), (1, 'Rise of the Argonauts'), (9, 'Team Fortress 2'), (1, 'Terraria'), (1, 'The Stanley Parable'), (1, \"Tom Clancy's Ghost Recon Advanced Warfighter\"), (1, \"Tom Clancy's Ghost Recon Advanced Warfighter 2\"), (1, 'Torchlight II'), (1, 'Tropico 4'), (2, 'War Thunder'), (1, 'Worms Reloaded')]\n",
      "Counter-Strike\n",
      "Day of Defeat\n",
      "Dota 2\n",
      "Half-Life\n",
      "Half-Life 2\n",
      "Portal\n",
      "Portal 2\n",
      "Team Fortress 2\n"
     ]
    },
    {
     "data": {
      "text/plain": [
       "['Left 4 Dead 2',\n",
       " 'Left 4 Dead',\n",
       " 'Audiosurf',\n",
       " 'War Thunder',\n",
       " 'Alan Wake',\n",
       " \"Alan Wake's American Nightmare\",\n",
       " 'Aliens vs. Predator',\n",
       " 'Antichamber',\n",
       " 'Borderlands 2',\n",
       " 'Endless Space',\n",
       " 'Far Cry 3',\n",
       " 'Killer is Dead',\n",
       " 'L.A. Noire',\n",
       " 'Max Payne 3',\n",
       " 'Overlord',\n",
       " 'Overlord II',\n",
       " 'Poker Night at the Inventory',\n",
       " 'Puzzle Agent',\n",
       " 'Rise of the Argonauts',\n",
       " 'Terraria',\n",
       " 'The Stanley Parable',\n",
       " \"Tom Clancy's Ghost Recon Advanced Warfighter\",\n",
       " \"Tom Clancy's Ghost Recon Advanced Warfighter 2\",\n",
       " 'Torchlight II',\n",
       " 'Tropico 4',\n",
       " 'Worms Reloaded']"
      ]
     },
     "execution_count": 63,
     "metadata": {},
     "output_type": "execute_result"
    }
   ],
   "source": [
    "recommender(2)"
   ]
  },
  {
   "cell_type": "code",
   "execution_count": 64,
   "metadata": {
    "collapsed": false
   },
   "outputs": [
    {
     "name": "stdout",
     "output_type": "stream",
     "text": [
      "007 Legends                       0\n",
      "4 Elements                        0\n",
      "7 Days to Die                     0\n",
      "A Bird Story                      0\n",
      "A Valley Without Wind             0\n",
      "A Vampyre Story                   0\n",
      "Abyss Odyssey                     0\n",
      "Ace of Spades                     0\n",
      "Achron                            0\n",
      "Advent Rising                     0\n",
      "Age of Booty                      0\n",
      "Age of Empires Online             0\n",
      "Age of Wonders                    0\n",
      "Age of Wonders III                0\n",
      "Age of Wushu                      0\n",
      "Aion                              0\n",
      "AirBuccaneers                     0\n",
      "Alan Wake                         1\n",
      "Alan Wake's American Nightmare    1\n",
      "Alien Breed Impact                0\n",
      "Alien Zombie Megadeath            0\n",
      "Aliens vs. Predator               0\n",
      "Alone in the Dark                 0\n",
      "Alpha Protocol                    0\n",
      "America's Army 3                  0\n",
      "American Conquest                 0\n",
      "Among the Sleep                   0\n",
      "Anachronox                        0\n",
      "Ancient Space                     0\n",
      "And Yet It Moves                  0\n",
      "                                 ..\n",
      "Waves                             0\n",
      "Way of the Samurai 4              0\n",
      "Where is my Heart?                0\n",
      "Wings of Prey                     0\n",
      "Wolfenstein                       0\n",
      "World War II Panzer Claws         0\n",
      "World in Conflict                 0\n",
      "World of Goo                      0\n",
      "Worldwide Soccer Manager 2009     0\n",
      "Worms                             0\n",
      "Worms Armageddon                  0\n",
      "Worms Blast                       0\n",
      "Worms Crazy Golf                  0\n",
      "Worms Reloaded                    0\n",
      "Worms Revolution                  0\n",
      "X Rebirth                         0\n",
      "X-Blades                          0\n",
      "Xenonauts                         0\n",
      "Xeodrifter                        0\n",
      "Xotic                             0\n",
      "Xpand Rally                       0\n",
      "Year Walk                         0\n",
      "Yosumin!                          0\n",
      "Zack Zero                         0\n",
      "Zen Bound 2                       0\n",
      "Zeno Clash                        0\n",
      "Zooloretto                        0\n",
      "Zuma Deluxe                       0\n",
      "Zuma's Revenge                    0\n",
      "realMyst                          0\n",
      "Name: 2, dtype: int64\n"
     ]
    }
   ],
   "source": [
    "print(encodedData.iloc[2][:])"
   ]
  },
  {
   "cell_type": "code",
   "execution_count": null,
   "metadata": {
    "collapsed": true
   },
   "outputs": [],
   "source": []
  }
 ],
 "metadata": {
  "kernelspec": {
   "display_name": "Python 2",
   "language": "python",
   "name": "python2"
  },
  "language_info": {
   "codemirror_mode": {
    "name": "ipython",
    "version": 2
   },
   "file_extension": ".py",
   "mimetype": "text/x-python",
   "name": "python",
   "nbconvert_exporter": "python",
   "pygments_lexer": "ipython2",
   "version": "2.7.13"
  }
 },
 "nbformat": 4,
 "nbformat_minor": 2
}
