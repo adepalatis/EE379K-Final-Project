{
 "cells": [
  {
   "cell_type": "code",
   "execution_count": 10,
   "metadata": {
    "collapsed": true
   },
   "outputs": [],
   "source": [
    "import numpy as np\n",
    "import pandas as pd\n",
    "import matplotlib.pyplot as plt\n",
    "import math"
   ]
  },
  {
   "cell_type": "code",
   "execution_count": 11,
   "metadata": {
    "collapsed": false
   },
   "outputs": [],
   "source": [
    "game_data = pd.read_excel('/Users/anthonydepalatis/Documents/Workspace/school/EE379K-Final-Project/data/gamedata.xlsx')\n",
    "ign = pd.read_excel('/Users/anthonydepalatis/Documents/Workspace/school/EE379K-Final-Project/data/ign.csv.xlsx')\n",
    "dec_2016 = pd.read_csv('/Users/anthonydepalatis/Documents/Workspace/school/EE379K-Final-Project/data/Video_Games_Sales_as_at_22_Dec_2016.csv')\n",
    "#jan_2017 = game_data = pd.read_excel('/Users/anthonydepalatis/Documents/Workspace/school/EE379K-Final-Project/data/')"
   ]
  },
  {
   "cell_type": "code",
   "execution_count": null,
   "metadata": {
    "collapsed": false
   },
   "outputs": [],
   "source": [
    "def get_years_dict(df, years_feature_name):\n",
    "    years_dict = {}\n",
    "\n",
    "    ind = 0\n",
    "    for x in df[years_feature_name]:\n",
    "        if math.isnan(x):\n",
    "            continue\n",
    "            \n",
    "        if years_dict.has_key(x):\n",
    "            years_dict[x].append(df.iloc[ind])\n",
    "        else:\n",
    "            years_dict[x] = [df.iloc[ind]]\n",
    "        ind += 1\n",
    "\n",
    "    return years_dict"
   ]
  },
  {
   "cell_type": "code",
   "execution_count": null,
   "metadata": {
    "collapsed": false
   },
   "outputs": [],
   "source": [
    "yrs1 = get_years_dict(dec_2016, 'Year_of_Release')\n",
    "yrs2 = get_years_dict(ign, 'release_year')"
   ]
  },
  {
   "cell_type": "code",
   "execution_count": null,
   "metadata": {
    "collapsed": true
   },
   "outputs": [],
   "source": []
  }
 ],
 "metadata": {
  "kernelspec": {
   "display_name": "Python 2",
   "language": "python",
   "name": "python2"
  },
  "language_info": {
   "codemirror_mode": {
    "name": "ipython",
    "version": 2
   },
   "file_extension": ".py",
   "mimetype": "text/x-python",
   "name": "python",
   "nbconvert_exporter": "python",
   "pygments_lexer": "ipython2",
   "version": "2.7.13"
  }
 },
 "nbformat": 4,
 "nbformat_minor": 2
}
