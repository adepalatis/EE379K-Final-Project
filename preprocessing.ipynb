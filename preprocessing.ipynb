{
 "cells": [
  {
   "cell_type": "code",
   "execution_count": 199,
   "metadata": {
    "collapsed": true
   },
   "outputs": [],
   "source": [
    "import numpy as np\n",
    "import pandas as pd\n",
    "import matplotlib.pyplot as plt\n",
    "import math"
   ]
  },
  {
   "cell_type": "code",
   "execution_count": 200,
   "metadata": {
    "collapsed": true
   },
   "outputs": [],
   "source": [
    "dec_2016 = pd.read_csv('data/raw_data/Video_Games_Sales_as_at_22_Dec_2016.csv', header = 0, index_col = None)\n",
    "jan_2017 = pd.read_csv('data/raw_data/Video_Game_Sales_as_of_Jan_2017.csv')\n",
    "ign = pd.read_excel('data/raw_data/ign.csv.xlsx', header = 0, index_col = 0, sheetname = \"ign.csv\")\n",
    "steam = pd.read_csv('data/raw_data/steam-200k.csv', header = None, index_col = None)"
   ]
  },
  {
   "cell_type": "code",
   "execution_count": 201,
   "metadata": {
    "collapsed": true
   },
   "outputs": [],
   "source": [
    "''' Returns the given dataset's titles in the form of a dictionary with release year as the keys. '''\n",
    "def get_years_dict(df, year_feature_name, title_feature_name):\n",
    "    years_dict = {}\n",
    "    for year in df[year_feature_name]:\n",
    "        if math.isnan(year):\n",
    "            continue\n",
    "        years_dict[year] = df[df[year_feature_name] == year][title_feature_name].tolist()\n",
    "    return years_dict"
   ]
  },
  {
   "cell_type": "code",
   "execution_count": 202,
   "metadata": {
    "collapsed": true
   },
   "outputs": [],
   "source": [
    "''' Combines the two datasets and returns a dictionary of the union set, grouped by release year. '''\n",
    "def union(df1, df2, yrs_label1, yrs_label2):\n",
    "    yrs_dict1 = get_years_dict(df1, yrs_label1, 'Name')\n",
    "    yrs_dict2 = get_years_dict(df2, yrs_label2, 'Name')\n",
    "    \n",
    "    # Add empty lists for years that either dicts have but the other does not.\n",
    "    for year in yrs_dict1:\n",
    "        if year not in yrs_dict2:\n",
    "            yrs_dict2[year] = []\n",
    "    for year in yrs_dict2:\n",
    "        if year not in yrs_dict1:\n",
    "            yrs_dict1[year] = []\n",
    "    \n",
    "    union = {}\n",
    "    for year in yrs_dict1.keys():\n",
    "        union[year] = yrs_dict1[year] + list(set(yrs_dict2[year]) - set(yrs_dict1[year]))\n",
    "    \n",
    "    return union"
   ]
  },
  {
   "cell_type": "code",
   "execution_count": null,
   "metadata": {
    "collapsed": true
   },
   "outputs": [],
   "source": [
    "''' Returns the intersection set of df1 and df2. '''\n",
    "def intersection(df1, df2, title_feature_name1, title_feature_name2):\n",
    "    df1 = df1.rename(index=str, columns={title_feature_name1 : \"Name\"})\n",
    "    df2 = df2.rename(index=int, columns={title_feature_name2 : \"Name\"})\n",
    "    intersection = df2.set_index(\"Name\").join(df1.set_index(\"Name\"), how='inner')\n",
    "    return intersection"
   ]
  },
  {
   "cell_type": "code",
   "execution_count": null,
   "metadata": {
    "collapsed": false
   },
   "outputs": [],
   "source": [
    "intersection = intersection(ign, steam, 'title', 1)\n",
    "union = union(dec_2016, jan_2017, 'Year_of_Release', 'Year_of_Release')\n",
    "\n",
    "for year in union.keys():\n",
    "    pd.DataFrame(union[year]).to_csv('data/time_series_data/' + str(year) + '.csv')\n",
    "\n",
    "print 'Hello!'"
   ]
  },
  {
   "cell_type": "code",
   "execution_count": null,
   "metadata": {
    "collapsed": true
   },
   "outputs": [],
   "source": []
  }
 ],
 "metadata": {
  "kernelspec": {
   "display_name": "Python 2",
   "language": "python",
   "name": "python2"
  },
  "language_info": {
   "codemirror_mode": {
    "name": "ipython",
    "version": 2
   },
   "file_extension": ".py",
   "mimetype": "text/x-python",
   "name": "python",
   "nbconvert_exporter": "python",
   "pygments_lexer": "ipython2",
   "version": "2.7.13"
  }
 },
 "nbformat": 4,
 "nbformat_minor": 2
}
