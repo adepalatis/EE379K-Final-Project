{
 "cells": [
  {
   "cell_type": "code",
   "execution_count": 1,
   "metadata": {
    "collapsed": true
   },
   "outputs": [],
   "source": [
    "import numpy as np\n",
    "import pandas as pd\n",
    "import matplotlib.pyplot as plt\n",
    "import math"
   ]
  },
  {
   "cell_type": "code",
   "execution_count": 21,
   "metadata": {
    "collapsed": true
   },
   "outputs": [],
   "source": [
    "dec_2016 = pd.read_csv('/Users/anthonydepalatis/Documents/Workspace/school/EE379K-Final-Project/data/Video_Games_Sales_as_at_22_Dec_2016.csv', header = 0, index_col = None)\n",
    "jan_2017 = pd.read_csv('/Users/anthonydepalatis/Documents/Workspace/school/EE379K-Final-Project/data/Video_Game_Sales_as_of_Jan_2017.csv')"
   ]
  },
  {
   "cell_type": "code",
   "execution_count": 108,
   "metadata": {
    "collapsed": true
   },
   "outputs": [],
   "source": [
    "''' Returns the given dataset's titles in the form of a dictionary with release year as the keys. '''\n",
    "def get_years_dict(df, year_feature_name, title_feature_name):\n",
    "    years_dict = {}\n",
    "    for year in df[year_feature_name]:\n",
    "        if math.isnan(year):\n",
    "            continue\n",
    "        years_dict[year] = df[df[year_feature_name] == year][title_feature_name].tolist()\n",
    "    return years_dict"
   ]
  },
  {
   "cell_type": "code",
   "execution_count": 139,
   "metadata": {
    "collapsed": true
   },
   "outputs": [],
   "source": [
    "''' Combines the two datasets and returns a dictionary of the union set, grouped by release year. '''\n",
    "def union(df1, df2, yrs_label1, yrs_label2):\n",
    "    yrs_dict1 = get_years_dict(df1, yrs_label1, 'Name')\n",
    "    yrs_dict2 = get_years_dict(df2, yrs_label2, 'Name')\n",
    "    \n",
    "    # Add empty lists for years that either dicts have but the other does not.\n",
    "    for year in yrs_dict1:\n",
    "        if year not in yrs_dict2:\n",
    "            yrs_dict2[year] = []\n",
    "    for year in yrs_dict2:\n",
    "        if year not in yrs_dict1:\n",
    "            yrs_dict1[year] = []\n",
    "        \n",
    "    print yrs_dict1.keys()\n",
    "    print yrs_dict2.keys()\n",
    "    \n",
    "    union = {}\n",
    "    for year in yrs_dict1.keys():\n",
    "        #union[year] = list(set().union(yrs_dict1[year], yrs_dict2[year]))\n",
    "        union[year] = yrs_dict1[year] + list(set(yrs_dict2[year]) - set(yrs_dict1[year]))\n",
    "    \n",
    "    print len(yrs_dict1[1980])\n",
    "    print len(yrs_dict2[1980])\n",
    "    print len(union[1980])\n",
    "    \n",
    "    return union"
   ]
  },
  {
   "cell_type": "code",
   "execution_count": 138,
   "metadata": {
    "collapsed": false
   },
   "outputs": [
    {
     "name": "stdout",
     "output_type": "stream",
     "text": [
      "[1976.0, 1977.0, 1978.0, 1979.0, 1980.0, 1981.0, 1982.0, 1983.0, 1984.0, 1985.0, 1986.0, 1987.0, 1988.0, 1989.0, 1990.0, 1991.0, 1992.0, 1993.0, 1994.0, 1995.0, 1996.0, 1997.0, 1998.0, 1999.0, 2000.0, 2001.0, 2002.0, 2003.0, 2004.0, 2005.0, 2006.0, 2007.0, 2008.0, 2009.0, 2010.0, 2011.0, 2012.0, 2013.0, 2014.0, 2015.0, 2016.0, 2017.0, 2020.0]\n",
      "[1976.0, 1977.0, 1978.0, 1979.0, 1980.0, 1981.0, 1982.0, 1983.0, 1984.0, 1985.0, 1986.0, 1987.0, 1988.0, 1989.0, 1990.0, 1991.0, 1992.0, 1993.0, 1994.0, 1995.0, 1996.0, 1997.0, 1998.0, 1999.0, 2000.0, 2001.0, 2002.0, 2003.0, 2004.0, 2005.0, 2006.0, 2007.0, 2008.0, 2009.0, 2010.0, 2011.0, 2012.0, 2013.0, 2014.0, 2015.0, 2016.0, 2017.0, 2020.0]\n",
      "1427\n",
      "1536\n",
      "1575\n",
      "Hello!\n"
     ]
    }
   ],
   "source": [
    "union(dec_2016, jan_2017, 'Year_of_Release', 'Year_of_Release')\n",
    "print 'Hello!'"
   ]
  },
  {
   "cell_type": "code",
   "execution_count": null,
   "metadata": {
    "collapsed": true
   },
   "outputs": [],
   "source": []
  }
 ],
 "metadata": {
  "kernelspec": {
   "display_name": "Python 2",
   "language": "python",
   "name": "python2"
  },
  "language_info": {
   "codemirror_mode": {
    "name": "ipython",
    "version": 2
   },
   "file_extension": ".py",
   "mimetype": "text/x-python",
   "name": "python",
   "nbconvert_exporter": "python",
   "pygments_lexer": "ipython2",
   "version": "2.7.13"
  }
 },
 "nbformat": 4,
 "nbformat_minor": 2
}
