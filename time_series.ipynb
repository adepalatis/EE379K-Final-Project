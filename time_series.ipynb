{
 "cells": [
  {
   "cell_type": "code",
   "execution_count": 14,
   "metadata": {
    "collapsed": true
   },
   "outputs": [],
   "source": [
    "import numpy as np\n",
    "import pandas as pd\n",
    "import matplotlib.pyplot as plt\n",
    "import glob\n",
    "import math"
   ]
  },
  {
   "cell_type": "code",
   "execution_count": 15,
   "metadata": {
    "collapsed": true
   },
   "outputs": [],
   "source": [
    "dec_2016 = pd.read_csv('data/raw_data/Video_Games_Sales_as_at_22_Dec_2016.csv')\n",
    "jan_2017 = pd.read_csv('data/raw_data/Video_Game_Sales_as_of_Jan_2017.csv')"
   ]
  },
  {
   "cell_type": "code",
   "execution_count": 16,
   "metadata": {
    "collapsed": false
   },
   "outputs": [],
   "source": [
    "''' Read all the csv's into a list. '''\n",
    "year_csv = {}\n",
    "for csv in glob.iglob('data/time_series_data/*.csv'):\n",
    "    thing = csv.split(\"/\")\n",
    "    year = thing[2].split(\".\")[0]\n",
    "    year_csv[year] = csv"
   ]
  },
  {
   "cell_type": "code",
   "execution_count": 17,
   "metadata": {
    "collapsed": true
   },
   "outputs": [],
   "source": [
    "def thingaling(year_csv):\n",
    "    for title in year_csv:\n",
    "        if title in pd.Series(dec_2016['Name']).tolist():\n",
    "            print '2016'\n",
    "        elif title in pd.Series(jan_2017['Name']).tolist():\n",
    "            print '2017'"
   ]
  },
  {
   "cell_type": "code",
   "execution_count": 37,
   "metadata": {
    "collapsed": false
   },
   "outputs": [],
   "source": [
    "''' Returns a mapping of each year to the number of sales of games of the given feature in the given region. '''\n",
    "def calc_sales_for_feature(year_csv, feature, feature_value, sales_region):\n",
    "    sales = {}\n",
    "    \n",
    "    for k in range(len(dec_2016)):\n",
    "        feat = dec_2016.iloc[k][feature]\n",
    "        year = dec_2016.iloc[k]['Year_of_Release']\n",
    "        if math.isnan(year):\n",
    "            continue\n",
    "        \n",
    "        if year not in sales.keys():\n",
    "            sales[int(year)] = 0.\n",
    "        if feat == feature_value:\n",
    "            sales[year] += dec_2016.iloc[k][sales_region]\n",
    "\n",
    "    for k in range(len(jan_2017)):\n",
    "        feat = jan_2017.iloc[k][feature]\n",
    "        year = jan_2017.iloc[k]['Year_of_Release']\n",
    "        if math.isnan(year):\n",
    "            continue \n",
    "        \n",
    "        if year not in sales.keys():\n",
    "            sales[int(year)] = 0.\n",
    "        if feat == feature_value:\n",
    "            sales[year] += jan_2017.iloc[k][sales_region]\n",
    "    return sales"
   ]
  },
  {
   "cell_type": "code",
   "execution_count": 38,
   "metadata": {
    "collapsed": false
   },
   "outputs": [
    {
     "name": "stdout",
     "output_type": "stream",
     "text": [
      "{1976: 0.0, 1977: 0.0, 1978: 0.0, 1979: 0.0, 1980: 0.0, 1981: 13.860000000000001, 1982: 10.060000000000002, 1983: 13.859999999999998, 1984: 1.38, 1985: 86.34, 1986: 18.78, 1987: 3.4800000000000004, 1988: 55.46000000000001, 1989: 41.32000000000001, 1990: 45.94, 1991: 15.28, 1992: 26.839999999999996, 1993: 37.34, 1994: 57.48, 1995: 33.38, 1996: 56.46, 1997: 44.73, 1998: 59.75999999999999, 1999: 41.64, 2000: 32.11999999999999, 2001: 78.56000000000002, 2002: 92.22999999999999, 2003: 85.78, 2004: 94.48000000000006, 2005: 46.97000000000005, 2006: 99.31999999999995, 2007: 70.22999999999995, 2008: 70.33000000000004, 2009: 81.25999999999999, 2010: 62.11, 2011: 55.52, 2012: 36.99999999999999, 2013: 49.59, 2014: 17.78, 2015: 12.329999999999995, 2016: 8.599999999999998, 2017: 0.0, 2020: 0.0}\n"
     ]
    }
   ],
   "source": [
    "#blah = pd.read_csv(year_csv['1995'])\n",
    "#for x in range(len(blah)):\n",
    "#    print blah.iloc[x]['Name']\n",
    "\n",
    "print calc_sales_for_feature(year_csv, 'Genre', 'Platform', 'Global_Sales')"
   ]
  },
  {
   "cell_type": "code",
   "execution_count": null,
   "metadata": {
    "collapsed": true
   },
   "outputs": [],
   "source": []
  }
 ],
 "metadata": {
  "kernelspec": {
   "display_name": "Python 2",
   "language": "python",
   "name": "python2"
  },
  "language_info": {
   "codemirror_mode": {
    "name": "ipython",
    "version": 2
   },
   "file_extension": ".py",
   "mimetype": "text/x-python",
   "name": "python",
   "nbconvert_exporter": "python",
   "pygments_lexer": "ipython2",
   "version": "2.7.13"
  }
 },
 "nbformat": 4,
 "nbformat_minor": 2
}
