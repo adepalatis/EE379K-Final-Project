{
 "cells": [
  {
   "cell_type": "code",
   "execution_count": 12,
   "metadata": {
    "collapsed": true
   },
   "outputs": [],
   "source": [
    "import numpy as np\n",
    "import pandas as pd\n",
    "import matplotlib.pyplot as plt\n",
    "import glob\n",
    "import math"
   ]
  },
  {
   "cell_type": "code",
   "execution_count": 13,
   "metadata": {
    "collapsed": true
   },
   "outputs": [],
   "source": [
    "dec_2016 = pd.read_csv('data/raw_data/Video_Games_Sales_as_at_22_Dec_2016.csv')\n",
    "jan_2017 = pd.read_csv('data/raw_data/Video_Game_Sales_as_of_Jan_2017.csv')"
   ]
  },
  {
   "cell_type": "code",
   "execution_count": 14,
   "metadata": {
    "collapsed": false
   },
   "outputs": [],
   "source": [
    "''' Read all the csv's into a list. '''\n",
    "year_csv = {}\n",
    "for csv in glob.iglob('data/time_series_data/*.csv'):\n",
    "    thing = csv.split(\"/\")\n",
    "    year = thing[2].split(\".\")[0]\n",
    "    year_csv[year] = csv"
   ]
  },
  {
   "cell_type": "code",
   "execution_count": 15,
   "metadata": {
    "collapsed": false
   },
   "outputs": [],
   "source": [
    "def total_sales_for_year(year, sales_region):\n",
    "    total_sales = 0\n",
    "    for k in range(len(dec_2016)):\n",
    "        this_year = dec_2016.iloc[k]['Year_of_Release']\n",
    "        if not math.isnan(this_year) and str(int(this_year)) == year:\n",
    "            total_sales += float(dec_2016.iloc[k][sales_region])\n",
    "            \n",
    "    for k in range(len(jan_2017)):\n",
    "        this_year = jan_2017.iloc[k]['Year_of_Release']\n",
    "        if not math.isnan(this_year) and str(int(this_year)) == year:\n",
    "            total_sales += float(jan_2017.iloc[k][sales_region])\n",
    "    return total_sales"
   ]
  },
  {
   "cell_type": "code",
   "execution_count": 16,
   "metadata": {
    "collapsed": false
   },
   "outputs": [],
   "source": [
    "''' Returns a mapping of each year to the number of sales of games of the given feature in the given region.\n",
    "    Calculates number of sales normalized for that year if normalize is True - default False. '''\n",
    "def calc_sales_for_feature(year_csv, feature, feature_value, sales_region, normalize):\n",
    "    sales = {}\n",
    "    \n",
    "    for k in range(len(dec_2016)):\n",
    "        feat = dec_2016.iloc[k][feature]\n",
    "        year = dec_2016.iloc[k]['Year_of_Release']\n",
    "        if math.isnan(year):\n",
    "            continue\n",
    "        \n",
    "        if year not in sales.keys():\n",
    "            sales[int(year)] = 0.\n",
    "        if feat == feature_value:\n",
    "            sales[year] += dec_2016.iloc[k][sales_region]\n",
    "\n",
    "    for k in range(len(jan_2017)):\n",
    "        feat = jan_2017.iloc[k][feature]\n",
    "        year = jan_2017.iloc[k]['Year_of_Release']\n",
    "        if math.isnan(year):\n",
    "            continue \n",
    "        \n",
    "        if year not in sales.keys():\n",
    "            sales[int(year)] = 0.\n",
    "        if feat == feature_value:\n",
    "            sales[year] += jan_2017.iloc[k][sales_region]\n",
    "    \n",
    "    # Normalize sales by the total sales for all games in the given year.\n",
    "    if normalize:\n",
    "        for year in sales.keys():\n",
    "            sales[year] /= total_sales_for_year(str(year), sales_region)\n",
    "    \n",
    "    return sales"
   ]
  },
  {
   "cell_type": "code",
   "execution_count": 18,
   "metadata": {
    "collapsed": false,
    "scrolled": false
   },
   "outputs": [
    {
     "data": {
      "image/png": "[encoded data removed]",
      "text/plain": [
       "<matplotlib.figure.Figure at 0x112ae1fd0>"
      ]
     },
     "metadata": {},
     "output_type": "display_data"
    },
    {
     "data": {
      "image/png": "[encoded data removed]",
      "text/plain": [
       "<matplotlib.figure.Figure at 0x112ae1f10>"
      ]
     },
     "metadata": {},
     "output_type": "display_data"
    },
    {
     "data": {
      "image/png": "[encoded data removed]",
      "text/plain": [
       "<matplotlib.figure.Figure at 0x1134c1950>"
      ]
     },
     "metadata": {},
     "output_type": "display_data"
    },
    {
     "data": {
      "image/png": "[encoded data removed]",
      "text/plain": [
       "<matplotlib.figure.Figure at 0x11343f1d0>"
      ]
     },
     "metadata": {},
     "output_type": "display_data"
    }
   ],
   "source": [
    "#blah = pd.read_csv(year_csv['1995'])\n",
    "#for x in range(len(blah)):\n",
    "#    print blah.iloc[x]['Name']\n",
    "\n",
    "platform_game_sales = calc_sales_for_feature(year_csv, 'Genre', 'Platform', 'Global_Sales', False)\n",
    "shooter_game_sales = calc_sales_for_feature(year_csv, 'Genre', 'Shooter', 'Global_Sales', False)\n",
    "platform_game_sales_norm = calc_sales_for_feature(year_csv, 'Genre', 'Platform', 'Global_Sales', True)\n",
    "shooter_game_sales_norm = calc_sales_for_feature(year_csv, 'Genre', 'Shooter', 'Global_Sales', True)\n",
    "\n",
    "plt.scatter(platform_game_sales.keys(), platform_game_sales.values())\n",
    "plt.show()\n",
    "plt.scatter(shooter_game_sales.keys(), shooter_game_sales.values())\n",
    "plt.show()\n",
    "plt.scatter(platform_game_sales_norm.keys(), platform_game_sales_norm.values())\n",
    "plt.show()\n",
    "plt.scatter(shooter_game_sales_norm.keys(), shooter_game_sales_norm.values())\n",
    "plt.show()"
   ]
  },
  {
   "cell_type": "code",
   "execution_count": null,
   "metadata": {
    "collapsed": true
   },
   "outputs": [],
   "source": []
  }
 ],
 "metadata": {
  "kernelspec": {
   "display_name": "Python 2",
   "language": "python",
   "name": "python2"
  },
  "language_info": {
   "codemirror_mode": {
    "name": "ipython",
    "version": 2
   },
   "file_extension": ".py",
   "mimetype": "text/x-python",
   "name": "python",
   "nbconvert_exporter": "python",
   "pygments_lexer": "ipython2",
   "version": "2.7.13"
  }
 },
 "nbformat": 4,
 "nbformat_minor": 2
}
